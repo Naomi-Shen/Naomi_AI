{
  "nbformat": 4,
  "nbformat_minor": 0,
  "metadata": {
    "colab": {
      "provenance": [],
      "gpuType": "T4",
      "cell_execution_strategy": "setup"
    },
    "kernelspec": {
      "name": "python3",
      "display_name": "Python 3"
    },
    "language_info": {
      "name": "python"
    },
    "accelerator": "GPU"
  },
  "cells": [
    {
      "cell_type": "markdown",
      "source": [
        "## 00.pytorch.PyTorch Fundamentals\n",
        "\n",
        "> Indented block\n",
        "\n",
        "\n",
        "\n",
        "Resource notebook:https://www.learnpytorch.io/00_pytorch_fundamentals/\n",
        "\n",
        "If a question https://github.com/mrdbourke/pytorch-deep-learning/discussions"
      ],
      "metadata": {
        "id": "5GIIWHnMknhB"
      }
    },
    {
      "cell_type": "code",
      "execution_count": 1,
      "metadata": {
        "colab": {
          "base_uri": "https://localhost:8080/"
        },
        "id": "7whEyDAEjr0S",
        "outputId": "9431bab5-c981-4846-b8ea-59ace4409aee"
      },
      "outputs": [
        {
          "output_type": "stream",
          "name": "stdout",
          "text": [
            "Hello Im excited to learn pytorch\n"
          ]
        }
      ],
      "source": [
        "print(\"Hello Im excited to learn pytorch\")"
      ]
    },
    {
      "cell_type": "code",
      "source": [
        "!nvidia-smi"
      ],
      "metadata": {
        "colab": {
          "base_uri": "https://localhost:8080/"
        },
        "id": "n1eNz9jUkWCa",
        "outputId": "19a48f71-438a-49b6-b3a0-0510b9e783ea"
      },
      "execution_count": 2,
      "outputs": [
        {
          "output_type": "stream",
          "name": "stdout",
          "text": [
            "Wed Sep 13 11:56:55 2023       \n",
            "+-----------------------------------------------------------------------------+\n",
            "| NVIDIA-SMI 525.105.17   Driver Version: 525.105.17   CUDA Version: 12.0     |\n",
            "|-------------------------------+----------------------+----------------------+\n",
            "| GPU  Name        Persistence-M| Bus-Id        Disp.A | Volatile Uncorr. ECC |\n",
            "| Fan  Temp  Perf  Pwr:Usage/Cap|         Memory-Usage | GPU-Util  Compute M. |\n",
            "|                               |                      |               MIG M. |\n",
            "|===============================+======================+======================|\n",
            "|   0  Tesla T4            Off  | 00000000:00:04.0 Off |                    0 |\n",
            "| N/A   51C    P8     9W /  70W |      0MiB / 15360MiB |      0%      Default |\n",
            "|                               |                      |                  N/A |\n",
            "+-------------------------------+----------------------+----------------------+\n",
            "                                                                               \n",
            "+-----------------------------------------------------------------------------+\n",
            "| Processes:                                                                  |\n",
            "|  GPU   GI   CI        PID   Type   Process name                  GPU Memory |\n",
            "|        ID   ID                                                   Usage      |\n",
            "|=============================================================================|\n",
            "|  No running processes found                                                 |\n",
            "+-----------------------------------------------------------------------------+\n"
          ]
        }
      ]
    },
    {
      "cell_type": "code",
      "source": [
        "import torch\n",
        "import pandas as pd\n",
        "import numpy as np\n",
        "import matplotlib.pyplot as plt\n",
        "print(torch.__version__)"
      ],
      "metadata": {
        "colab": {
          "base_uri": "https://localhost:8080/"
        },
        "id": "CZuT7N6LlfHM",
        "outputId": "caaae93f-0c76-4572-afec-8604f604c831"
      },
      "execution_count": 3,
      "outputs": [
        {
          "output_type": "stream",
          "name": "stdout",
          "text": [
            "2.0.1+cu118\n"
          ]
        }
      ]
    },
    {
      "cell_type": "markdown",
      "source": [
        "## Intro to tensors\n",
        "\n",
        "###creating tensors\n",
        "\n",
        "PyTorch tensors are created using 'torch.Tensor()'-https://pytorch.org/docs/stable/tensors.html"
      ],
      "metadata": {
        "id": "A1GqimbEn4JO"
      }
    },
    {
      "cell_type": "code",
      "source": [
        "# scalar\n",
        "scalar = torch.tensor(7)\n",
        "scalar"
      ],
      "metadata": {
        "id": "T_ANOk7Lh-i-",
        "colab": {
          "base_uri": "https://localhost:8080/"
        },
        "outputId": "053fb92e-9d2d-4d59-aacf-8b124c26aad2"
      },
      "execution_count": 23,
      "outputs": [
        {
          "output_type": "execute_result",
          "data": {
            "text/plain": [
              "tensor(7)"
            ]
          },
          "metadata": {},
          "execution_count": 23
        }
      ]
    },
    {
      "cell_type": "code",
      "source": [
        "scalar.ndim"
      ],
      "metadata": {
        "id": "8HwJmEzop3Ur",
        "colab": {
          "base_uri": "https://localhost:8080/"
        },
        "outputId": "8ac15daf-8762-41fd-9526-2419ea0c5b17"
      },
      "execution_count": 24,
      "outputs": [
        {
          "output_type": "execute_result",
          "data": {
            "text/plain": [
              "0"
            ]
          },
          "metadata": {},
          "execution_count": 24
        }
      ]
    },
    {
      "cell_type": "code",
      "source": [
        "#Get tensor back as Python int\n",
        "scalar.item()"
      ],
      "metadata": {
        "id": "Fe7f_6ajFg_I",
        "colab": {
          "base_uri": "https://localhost:8080/"
        },
        "outputId": "d220e96f-e411-4bb5-9ae1-c5c08546486c"
      },
      "execution_count": 25,
      "outputs": [
        {
          "output_type": "execute_result",
          "data": {
            "text/plain": [
              "7"
            ]
          },
          "metadata": {},
          "execution_count": 25
        }
      ]
    },
    {
      "cell_type": "code",
      "source": [
        "#vector\n",
        "vector = torch.tensor([7,7])\n",
        "vector"
      ],
      "metadata": {
        "colab": {
          "base_uri": "https://localhost:8080/"
        },
        "id": "ES4kznJgD-Ss",
        "outputId": "a7375068-bb72-4b8f-f6ed-912b9a7bbb0d"
      },
      "execution_count": 26,
      "outputs": [
        {
          "output_type": "execute_result",
          "data": {
            "text/plain": [
              "tensor([7, 7])"
            ]
          },
          "metadata": {},
          "execution_count": 26
        }
      ]
    },
    {
      "cell_type": "code",
      "source": [
        "vector.ndim"
      ],
      "metadata": {
        "colab": {
          "base_uri": "https://localhost:8080/"
        },
        "id": "X9w6SxlQEVP-",
        "outputId": "aae665b0-fb4f-4435-92b1-a154cbda5af0"
      },
      "execution_count": 27,
      "outputs": [
        {
          "output_type": "execute_result",
          "data": {
            "text/plain": [
              "1"
            ]
          },
          "metadata": {},
          "execution_count": 27
        }
      ]
    },
    {
      "cell_type": "code",
      "source": [
        "vector.shape\n"
      ],
      "metadata": {
        "colab": {
          "base_uri": "https://localhost:8080/"
        },
        "id": "DYHfRSAaEYE6",
        "outputId": "a99713ca-e8e6-453a-d125-d8ee5acdb05e"
      },
      "execution_count": 28,
      "outputs": [
        {
          "output_type": "execute_result",
          "data": {
            "text/plain": [
              "torch.Size([2])"
            ]
          },
          "metadata": {},
          "execution_count": 28
        }
      ]
    },
    {
      "cell_type": "code",
      "source": [
        "# matrix\n",
        "MATRIX = torch.tensor([[7,8],\n",
        "             [9,10]])\n",
        "MATRIX"
      ],
      "metadata": {
        "colab": {
          "base_uri": "https://localhost:8080/"
        },
        "id": "DPnai8YqGjwh",
        "outputId": "5c11dbe1-9035-4ff4-b306-bb3f42e5b707"
      },
      "execution_count": 29,
      "outputs": [
        {
          "output_type": "execute_result",
          "data": {
            "text/plain": [
              "tensor([[ 7,  8],\n",
              "        [ 9, 10]])"
            ]
          },
          "metadata": {},
          "execution_count": 29
        }
      ]
    },
    {
      "cell_type": "code",
      "source": [
        "MATRIX.ndim"
      ],
      "metadata": {
        "colab": {
          "base_uri": "https://localhost:8080/"
        },
        "id": "z8Q1I8vrG8My",
        "outputId": "5e210bc1-d13f-4c7d-e4ed-26c5fe036bf8"
      },
      "execution_count": 30,
      "outputs": [
        {
          "output_type": "execute_result",
          "data": {
            "text/plain": [
              "2"
            ]
          },
          "metadata": {},
          "execution_count": 30
        }
      ]
    },
    {
      "cell_type": "code",
      "source": [
        "# FIRST DIMENSION\n",
        "MATRIX[0]"
      ],
      "metadata": {
        "colab": {
          "base_uri": "https://localhost:8080/"
        },
        "id": "myIkg0D0HK8e",
        "outputId": "9546df4d-8f05-4d4c-9c7f-dc95cd73f8fb"
      },
      "execution_count": 31,
      "outputs": [
        {
          "output_type": "execute_result",
          "data": {
            "text/plain": [
              "tensor([7, 8])"
            ]
          },
          "metadata": {},
          "execution_count": 31
        }
      ]
    },
    {
      "cell_type": "code",
      "source": [
        "MATRIX[1]"
      ],
      "metadata": {
        "colab": {
          "base_uri": "https://localhost:8080/"
        },
        "id": "sMRO02dIHZWj",
        "outputId": "9623208c-8cda-4a5a-b8b7-482c86b58dee"
      },
      "execution_count": 32,
      "outputs": [
        {
          "output_type": "execute_result",
          "data": {
            "text/plain": [
              "tensor([ 9, 10])"
            ]
          },
          "metadata": {},
          "execution_count": 32
        }
      ]
    },
    {
      "cell_type": "code",
      "source": [
        "MATRIX.shape\n"
      ],
      "metadata": {
        "colab": {
          "base_uri": "https://localhost:8080/"
        },
        "id": "_uMVT458HbPB",
        "outputId": "0dc45809-a7e1-40c4-ea2a-a919f5361eb0"
      },
      "execution_count": 33,
      "outputs": [
        {
          "output_type": "execute_result",
          "data": {
            "text/plain": [
              "torch.Size([2, 2])"
            ]
          },
          "metadata": {},
          "execution_count": 33
        }
      ]
    },
    {
      "cell_type": "code",
      "source": [
        "#TENSOR\n",
        "TENSOR = torch.tensor([[[1,2,3],\n",
        "            [3,4,5],\n",
        "            [2,6,7]]])\n",
        "TENSOR"
      ],
      "metadata": {
        "colab": {
          "base_uri": "https://localhost:8080/"
        },
        "id": "Jpc3fjmfHiOy",
        "outputId": "47980f62-6b2b-428d-dede-148809afb45e"
      },
      "execution_count": 34,
      "outputs": [
        {
          "output_type": "execute_result",
          "data": {
            "text/plain": [
              "tensor([[[1, 2, 3],\n",
              "         [3, 4, 5],\n",
              "         [2, 6, 7]]])"
            ]
          },
          "metadata": {},
          "execution_count": 34
        }
      ]
    },
    {
      "cell_type": "code",
      "source": [
        "TENSOR.ndim"
      ],
      "metadata": {
        "colab": {
          "base_uri": "https://localhost:8080/"
        },
        "id": "Va2Talb0IJzY",
        "outputId": "1efe8b09-2152-4ef0-b839-adc28d28e4c3"
      },
      "execution_count": 35,
      "outputs": [
        {
          "output_type": "execute_result",
          "data": {
            "text/plain": [
              "3"
            ]
          },
          "metadata": {},
          "execution_count": 35
        }
      ]
    },
    {
      "cell_type": "code",
      "source": [
        "# ONE 3BY3 TENSOR\n",
        "# 第一个1 代表outer bracket，第二个数字3代表3个框住数字的框，第3个数字3代表一个最小框内的3个数字\n",
        "TENSOR.shape"
      ],
      "metadata": {
        "colab": {
          "base_uri": "https://localhost:8080/"
        },
        "id": "ylAnw3RGIL9N",
        "outputId": "0d83efd5-6f95-4c95-d881-f56f981ef0f7"
      },
      "execution_count": 36,
      "outputs": [
        {
          "output_type": "execute_result",
          "data": {
            "text/plain": [
              "torch.Size([1, 3, 3])"
            ]
          },
          "metadata": {},
          "execution_count": 36
        }
      ]
    },
    {
      "cell_type": "code",
      "source": [
        "TENSOR[0]"
      ],
      "metadata": {
        "colab": {
          "base_uri": "https://localhost:8080/"
        },
        "id": "b_Bu5qbkIQIq",
        "outputId": "2addad6d-be58-4c31-e0ea-d6ac5f8865c2"
      },
      "execution_count": 37,
      "outputs": [
        {
          "output_type": "execute_result",
          "data": {
            "text/plain": [
              "tensor([[1, 2, 3],\n",
              "        [3, 4, 5],\n",
              "        [2, 6, 7]])"
            ]
          },
          "metadata": {},
          "execution_count": 37
        }
      ]
    },
    {
      "cell_type": "code",
      "source": [
        "TENSOR[1]"
      ],
      "metadata": {
        "colab": {
          "base_uri": "https://localhost:8080/",
          "height": 182
        },
        "id": "pfcM-gzAIWjL",
        "outputId": "c7a96db9-48f9-4a74-b8d8-47de1d0932b5"
      },
      "execution_count": 40,
      "outputs": [
        {
          "output_type": "error",
          "ename": "IndexError",
          "evalue": "ignored",
          "traceback": [
            "\u001b[0;31m---------------------------------------------------------------------------\u001b[0m",
            "\u001b[0;31mIndexError\u001b[0m                                Traceback (most recent call last)",
            "\u001b[0;32m<ipython-input-40-41fed1505457>\u001b[0m in \u001b[0;36m<cell line: 1>\u001b[0;34m()\u001b[0m\n\u001b[0;32m----> 1\u001b[0;31m \u001b[0mTENSOR\u001b[0m\u001b[0;34m[\u001b[0m\u001b[0;36m1\u001b[0m\u001b[0;34m]\u001b[0m\u001b[0;34m\u001b[0m\u001b[0;34m\u001b[0m\u001b[0m\n\u001b[0m",
            "\u001b[0;31mIndexError\u001b[0m: index 1 is out of bounds for dimension 0 with size 1"
          ]
        }
      ]
    },
    {
      "cell_type": "code",
      "source": [
        "TENSOR[2]"
      ],
      "metadata": {
        "id": "_cViFBUeIYD2",
        "colab": {
          "base_uri": "https://localhost:8080/",
          "height": 182
        },
        "outputId": "e20c4bf8-30da-4f00-8a6a-673697fd53e2"
      },
      "execution_count": 41,
      "outputs": [
        {
          "output_type": "error",
          "ename": "IndexError",
          "evalue": "ignored",
          "traceback": [
            "\u001b[0;31m---------------------------------------------------------------------------\u001b[0m",
            "\u001b[0;31mIndexError\u001b[0m                                Traceback (most recent call last)",
            "\u001b[0;32m<ipython-input-41-fac73d24503a>\u001b[0m in \u001b[0;36m<cell line: 1>\u001b[0;34m()\u001b[0m\n\u001b[0;32m----> 1\u001b[0;31m \u001b[0mTENSOR\u001b[0m\u001b[0;34m[\u001b[0m\u001b[0;36m2\u001b[0m\u001b[0;34m]\u001b[0m\u001b[0;34m\u001b[0m\u001b[0;34m\u001b[0m\u001b[0m\n\u001b[0m",
            "\u001b[0;31mIndexError\u001b[0m: index 2 is out of bounds for dimension 0 with size 1"
          ]
        }
      ]
    },
    {
      "cell_type": "markdown",
      "source": [
        "#random tensors\n",
        "\n",
        "Why random tensors?\n",
        "\n",
        "Random tensors are important  because the way many neural networks learn is that they start with tensors full of random numbers and then adjust those random numbers to better represent the data\n",
        "\n",
        "'Start with random numbers -> look at data -> update random numbers->look at data -> update random numbers'\n",
        "\n",
        "Torch.random tensors - https://pytorch.org/docs/stable/generated/torch.rand.html"
      ],
      "metadata": {
        "id": "1JAJFl7TJyiQ"
      }
    },
    {
      "cell_type": "code",
      "source": [
        "#create a random tensor of size(3,4)\n",
        "random_tensor = torch.rand(3,4)\n",
        "random_tensor"
      ],
      "metadata": {
        "colab": {
          "base_uri": "https://localhost:8080/"
        },
        "id": "wyaOfbr-KhMg",
        "outputId": "9242109f-3234-4399-bdca-016431e252e7"
      },
      "execution_count": 63,
      "outputs": [
        {
          "output_type": "execute_result",
          "data": {
            "text/plain": [
              "tensor([[0.0861, 0.0866, 0.6123, 0.5209],\n",
              "        [0.1289, 0.6781, 0.0588, 0.0698],\n",
              "        [0.8484, 0.9279, 0.7909, 0.0239]])"
            ]
          },
          "metadata": {},
          "execution_count": 63
        }
      ]
    },
    {
      "cell_type": "code",
      "source": [
        "random_tensor.ndim"
      ],
      "metadata": {
        "colab": {
          "base_uri": "https://localhost:8080/"
        },
        "id": "UqZmxSy4LzZt",
        "outputId": "b8333e6a-4b3d-440f-bdcd-5ca03eb41a7d"
      },
      "execution_count": 64,
      "outputs": [
        {
          "output_type": "execute_result",
          "data": {
            "text/plain": [
              "2"
            ]
          },
          "metadata": {},
          "execution_count": 64
        }
      ]
    },
    {
      "cell_type": "code",
      "source": [
        "#create a random tensor with similar shape to an image tensor\n",
        "random_image_size_tensor = torch.rand(size=(3,224,224)) # height,width, color channels (R, G, B)\n",
        "random_image_size_tensor.shape,random_image_size_tensor.ndim\n",
        "# torch.rand(3,4)=torch.rand(size=(3,4))"
      ],
      "metadata": {
        "colab": {
          "base_uri": "https://localhost:8080/"
        },
        "id": "bvMQwZtXLzWC",
        "outputId": "3ffd3418-9801-4c85-f4ec-423db9bd5421"
      },
      "execution_count": 65,
      "outputs": [
        {
          "output_type": "execute_result",
          "data": {
            "text/plain": [
              "(torch.Size([3, 224, 224]), 3)"
            ]
          },
          "metadata": {},
          "execution_count": 65
        }
      ]
    },
    {
      "cell_type": "markdown",
      "source": [
        "### Zeros and ones"
      ],
      "metadata": {
        "id": "eitpF4X2LzTS"
      }
    },
    {
      "cell_type": "code",
      "source": [
        "#create a tensor of all zeros\n",
        "zeros = torch.zeros(3,4)\n",
        "zeros"
      ],
      "metadata": {
        "id": "365qBppALy_Q",
        "colab": {
          "base_uri": "https://localhost:8080/"
        },
        "outputId": "1ee056c8-3a98-4f60-b2f0-1715fabb93a3"
      },
      "execution_count": 66,
      "outputs": [
        {
          "output_type": "execute_result",
          "data": {
            "text/plain": [
              "tensor([[0., 0., 0., 0.],\n",
              "        [0., 0., 0., 0.],\n",
              "        [0., 0., 0., 0.]])"
            ]
          },
          "metadata": {},
          "execution_count": 66
        }
      ]
    },
    {
      "cell_type": "code",
      "source": [
        "zeros*random_tensor"
      ],
      "metadata": {
        "colab": {
          "base_uri": "https://localhost:8080/"
        },
        "id": "8pkPXVqyLvDq",
        "outputId": "3fa873ab-5ecd-4acb-c04e-86eeaaa579db"
      },
      "execution_count": 67,
      "outputs": [
        {
          "output_type": "execute_result",
          "data": {
            "text/plain": [
              "tensor([[0., 0., 0., 0.],\n",
              "        [0., 0., 0., 0.],\n",
              "        [0., 0., 0., 0.]])"
            ]
          },
          "metadata": {},
          "execution_count": 67
        }
      ]
    },
    {
      "cell_type": "code",
      "source": [
        "#create a tensor of all ones\n",
        "ones = torch.ones(3,4)\n",
        "ones"
      ],
      "metadata": {
        "colab": {
          "base_uri": "https://localhost:8080/"
        },
        "id": "6NCgA4gMe-E3",
        "outputId": "b8cd51fa-d211-4ba5-e54e-92c16f734ddc"
      },
      "execution_count": 68,
      "outputs": [
        {
          "output_type": "execute_result",
          "data": {
            "text/plain": [
              "tensor([[1., 1., 1., 1.],\n",
              "        [1., 1., 1., 1.],\n",
              "        [1., 1., 1., 1.]])"
            ]
          },
          "metadata": {},
          "execution_count": 68
        }
      ]
    },
    {
      "cell_type": "code",
      "source": [
        "ones.dtype"
      ],
      "metadata": {
        "colab": {
          "base_uri": "https://localhost:8080/"
        },
        "id": "bimEik0gfMS9",
        "outputId": "89b9f02a-1f61-444b-b238-fc51dd78ee3a"
      },
      "execution_count": 69,
      "outputs": [
        {
          "output_type": "execute_result",
          "data": {
            "text/plain": [
              "torch.float32"
            ]
          },
          "metadata": {},
          "execution_count": 69
        }
      ]
    },
    {
      "cell_type": "code",
      "source": [
        "random_tensor.dtype"
      ],
      "metadata": {
        "colab": {
          "base_uri": "https://localhost:8080/"
        },
        "id": "0cXY2NYmfQKQ",
        "outputId": "ea88ab23-0550-469c-f94d-70e7232d5e30"
      },
      "execution_count": 70,
      "outputs": [
        {
          "output_type": "execute_result",
          "data": {
            "text/plain": [
              "torch.float32"
            ]
          },
          "metadata": {},
          "execution_count": 70
        }
      ]
    },
    {
      "cell_type": "markdown",
      "source": [
        "### Creating a range of tensors and tensors-like"
      ],
      "metadata": {
        "id": "e-TU7vZKnkcv"
      }
    },
    {
      "cell_type": "code",
      "source": [
        "# Use torch.range() and get deprecated message, use torch.arange()\n",
        "one_to_ten = torch.arange(start=1,end=11,step=1)\n",
        "one_to_ten"
      ],
      "metadata": {
        "colab": {
          "base_uri": "https://localhost:8080/"
        },
        "id": "6MIOy3EEnu3_",
        "outputId": "b66564aa-fdf2-45ec-9fa3-673a86a4e29b"
      },
      "execution_count": 71,
      "outputs": [
        {
          "output_type": "execute_result",
          "data": {
            "text/plain": [
              "tensor([ 1,  2,  3,  4,  5,  6,  7,  8,  9, 10])"
            ]
          },
          "metadata": {},
          "execution_count": 71
        }
      ]
    },
    {
      "cell_type": "code",
      "source": [
        "#creating tensors like\n",
        "ten_zeros = torch.zeros_like(input=one_to_ten)\n",
        "ten_zeros"
      ],
      "metadata": {
        "id": "_aJ6wKeWn5FM",
        "colab": {
          "base_uri": "https://localhost:8080/"
        },
        "outputId": "b6faa8d7-b594-4109-f436-611411af8db4"
      },
      "execution_count": 72,
      "outputs": [
        {
          "output_type": "execute_result",
          "data": {
            "text/plain": [
              "tensor([0, 0, 0, 0, 0, 0, 0, 0, 0, 0])"
            ]
          },
          "metadata": {},
          "execution_count": 72
        }
      ]
    },
    {
      "cell_type": "markdown",
      "source": [
        "### Tensor datatypes\n",
        "\n",
        "**Note:** Tensor datatypes is one of the 3 big issues/errors with PyTorch& Deep learning\n",
        "1. Tensor not right datatype\n",
        "2. Tensor not right shape\n",
        "3. Tensor not on the right device\n",
        "\n",
        "Precision in computing-\n",
        "https://en.wikipedia.org/wiki/Precision_(computer_science)\n"
      ],
      "metadata": {
        "id": "0lA-otRE-2Z-"
      }
    },
    {
      "cell_type": "code",
      "source": [
        "# Float 32 tensor\n",
        "float_32_tensor = torch.tensor([3.0,6.0,9.0],\n",
        "                dtype=None,# What datatype is the tensor,(e.g. float32 or float16)可以被定义为torch.float16等等；matter with precision in computing\n",
        "                device=\"cuda\",# What device is your tensor on\n",
        "                requires_grad=False)# Whether or not to track gradients with this tensors operation\n",
        "float_32_tensor"
      ],
      "metadata": {
        "colab": {
          "base_uri": "https://localhost:8080/"
        },
        "id": "9kFwbDoK-_Wu",
        "outputId": "eca117b7-b4a7-4acf-b6da-b028dbc66618"
      },
      "execution_count": 73,
      "outputs": [
        {
          "output_type": "execute_result",
          "data": {
            "text/plain": [
              "tensor([3., 6., 9.], device='cuda:0')"
            ]
          },
          "metadata": {},
          "execution_count": 73
        }
      ]
    },
    {
      "cell_type": "code",
      "source": [
        "float_32_tensor.dtype"
      ],
      "metadata": {
        "colab": {
          "base_uri": "https://localhost:8080/"
        },
        "id": "hrgL-yPEAYqP",
        "outputId": "d5386357-0c88-4e6b-e0b0-e7a5cbf43388"
      },
      "execution_count": 74,
      "outputs": [
        {
          "output_type": "execute_result",
          "data": {
            "text/plain": [
              "torch.float32"
            ]
          },
          "metadata": {},
          "execution_count": 74
        }
      ]
    },
    {
      "cell_type": "code",
      "source": [
        "float_16_tensor = float_32_tensor.type(torch.float16)\n",
        "float_16_tensor # check the tensor datatype"
      ],
      "metadata": {
        "id": "XcRfWjElAcL0",
        "colab": {
          "base_uri": "https://localhost:8080/"
        },
        "outputId": "6413b661-0c9e-4bdc-fb17-e9fbe0c1851e"
      },
      "execution_count": 75,
      "outputs": [
        {
          "output_type": "execute_result",
          "data": {
            "text/plain": [
              "tensor([3., 6., 9.], device='cuda:0', dtype=torch.float16)"
            ]
          },
          "metadata": {},
          "execution_count": 75
        }
      ]
    },
    {
      "cell_type": "code",
      "source": [
        "float_16_tensor*float_32_tensor#此处没有出现error，但其他dtype不match的情况可能会error"
      ],
      "metadata": {
        "id": "A_e7p9_aNmWM",
        "colab": {
          "base_uri": "https://localhost:8080/"
        },
        "outputId": "41cf8e3b-0a17-4115-9e1f-3d9043b86834"
      },
      "execution_count": 76,
      "outputs": [
        {
          "output_type": "execute_result",
          "data": {
            "text/plain": [
              "tensor([ 9., 36., 81.], device='cuda:0')"
            ]
          },
          "metadata": {},
          "execution_count": 76
        }
      ]
    },
    {
      "cell_type": "code",
      "source": [
        "int_32_tensor = torch.tensor([3,6,9],dtype=torch.int32)# no dots to make it float\n",
        "int_32_tensor"
      ],
      "metadata": {
        "colab": {
          "base_uri": "https://localhost:8080/"
        },
        "id": "E7wSXb0aNs3p",
        "outputId": "356bf8a0-094f-4dce-cb24-57fe64cfdc8d"
      },
      "execution_count": 77,
      "outputs": [
        {
          "output_type": "execute_result",
          "data": {
            "text/plain": [
              "tensor([3, 6, 9], dtype=torch.int32)"
            ]
          },
          "metadata": {},
          "execution_count": 77
        }
      ]
    },
    {
      "cell_type": "code",
      "source": [
        "float_32_tensor * int_32_tensor"
      ],
      "metadata": {
        "colab": {
          "base_uri": "https://localhost:8080/",
          "height": 182
        },
        "id": "PYb1ABJCPWfU",
        "outputId": "1d7b88b8-d975-42a8-b1c7-251d17642441"
      },
      "execution_count": 78,
      "outputs": [
        {
          "output_type": "error",
          "ename": "RuntimeError",
          "evalue": "ignored",
          "traceback": [
            "\u001b[0;31m---------------------------------------------------------------------------\u001b[0m",
            "\u001b[0;31mRuntimeError\u001b[0m                              Traceback (most recent call last)",
            "\u001b[0;32m<ipython-input-78-e82a62f6be7e>\u001b[0m in \u001b[0;36m<cell line: 1>\u001b[0;34m()\u001b[0m\n\u001b[0;32m----> 1\u001b[0;31m \u001b[0mfloat_32_tensor\u001b[0m \u001b[0;34m*\u001b[0m \u001b[0mint_32_tensor\u001b[0m\u001b[0;34m\u001b[0m\u001b[0;34m\u001b[0m\u001b[0m\n\u001b[0m",
            "\u001b[0;31mRuntimeError\u001b[0m: Expected all tensors to be on the same device, but found at least two devices, cuda:0 and cpu!"
          ]
        }
      ]
    },
    {
      "cell_type": "markdown",
      "source": [
        "### Getting information from tensors (tensor attributes)\n",
        "\n",
        "1. Tensor not right datatype - to get datatype from a tensor, can use'tensor.dtype'\n",
        "2. Tensor not right shape - to get shape from a tensor, can use 'tensor.shape'\n",
        "3. Tensor not on the right device - to get device from a tensor, can use 'tensor.device'"
      ],
      "metadata": {
        "id": "GGxm2NaoPxCq"
      }
    },
    {
      "cell_type": "code",
      "source": [
        "# create a tensor\n",
        "some_tensor = torch.rand(3,4)\n",
        "some_tensor"
      ],
      "metadata": {
        "colab": {
          "base_uri": "https://localhost:8080/"
        },
        "id": "lUAeqhM3Q3u6",
        "outputId": "756e71d9-0103-4627-8958-8ab52f6715fd"
      },
      "execution_count": 80,
      "outputs": [
        {
          "output_type": "execute_result",
          "data": {
            "text/plain": [
              "tensor([[0.3068, 0.1922, 0.1218, 0.3501],\n",
              "        [0.5538, 0.7507, 0.4092, 0.9605],\n",
              "        [0.9890, 0.0901, 0.6745, 0.1880]])"
            ]
          },
          "metadata": {},
          "execution_count": 80
        }
      ]
    },
    {
      "cell_type": "code",
      "source": [
        "some_tensor.size, some_tensor.shape #attribute doesn't have a bracket"
      ],
      "metadata": {
        "colab": {
          "base_uri": "https://localhost:8080/"
        },
        "id": "6BMMdh2lYT1e",
        "outputId": "ee587511-4910-481f-9117-22bc199f3cb2"
      },
      "execution_count": 81,
      "outputs": [
        {
          "output_type": "execute_result",
          "data": {
            "text/plain": [
              "(<function Tensor.size>, torch.Size([3, 4]))"
            ]
          },
          "metadata": {},
          "execution_count": 81
        }
      ]
    },
    {
      "cell_type": "code",
      "source": [
        "some_tensor.size"
      ],
      "metadata": {
        "colab": {
          "base_uri": "https://localhost:8080/"
        },
        "id": "YGtUd-82YoMB",
        "outputId": "d5cfe3a7-404b-4060-8cb5-8a066c170e77"
      },
      "execution_count": 82,
      "outputs": [
        {
          "output_type": "execute_result",
          "data": {
            "text/plain": [
              "<function Tensor.size>"
            ]
          },
          "metadata": {},
          "execution_count": 82
        }
      ]
    },
    {
      "cell_type": "code",
      "source": [
        "some_tensor.size() #function has its bracket behind"
      ],
      "metadata": {
        "colab": {
          "base_uri": "https://localhost:8080/"
        },
        "id": "TmxPoouyYsC8",
        "outputId": "556b25dc-8abf-4725-f945-4e167f901c58"
      },
      "execution_count": 83,
      "outputs": [
        {
          "output_type": "execute_result",
          "data": {
            "text/plain": [
              "torch.Size([3, 4])"
            ]
          },
          "metadata": {},
          "execution_count": 83
        }
      ]
    },
    {
      "cell_type": "code",
      "source": [
        "# Find out details about some tensor\n",
        "print(some_tensor)\n",
        "print(f\"Datatype of tensor:{some_tensor.dtype}\")\n",
        "print(f\"Shape of tensor:{some_tensor.shape}\")\n",
        "print(f\"Device tensor is on:{some_tensor.device}\")"
      ],
      "metadata": {
        "colab": {
          "base_uri": "https://localhost:8080/"
        },
        "id": "C8PQNgURRCu6",
        "outputId": "91a061ec-206f-43f5-961e-553aef3ec2ad"
      },
      "execution_count": 84,
      "outputs": [
        {
          "output_type": "stream",
          "name": "stdout",
          "text": [
            "tensor([[0.3068, 0.1922, 0.1218, 0.3501],\n",
            "        [0.5538, 0.7507, 0.4092, 0.9605],\n",
            "        [0.9890, 0.0901, 0.6745, 0.1880]])\n",
            "Datatype of tensor:torch.float32\n",
            "Shape of tensor:torch.Size([3, 4])\n",
            "Device tensor is on:cpu\n"
          ]
        }
      ]
    },
    {
      "cell_type": "markdown",
      "source": [
        "from ast import Add\n",
        "### Manipulating Tensors(tensor operations)\n",
        "\n",
        "Tensor operations include:\n",
        "* Addition\n",
        "* Subtraction\n",
        "* Multiplication(element-wise)\n",
        "* Division\n",
        "* Matrix multiplication"
      ],
      "metadata": {
        "id": "RAbFnrmSZYAf"
      }
    },
    {
      "cell_type": "code",
      "source": [
        "# Create a tensor and add 1- to it\n",
        "tensor = torch.tensor([1,2,3])\n",
        "tensor+10"
      ],
      "metadata": {
        "colab": {
          "base_uri": "https://localhost:8080/"
        },
        "id": "5UGcRIxOZX-T",
        "outputId": "c4c63450-2ded-4a27-a7f3-442f7d512597"
      },
      "execution_count": 85,
      "outputs": [
        {
          "output_type": "execute_result",
          "data": {
            "text/plain": [
              "tensor([11, 12, 13])"
            ]
          },
          "metadata": {},
          "execution_count": 85
        }
      ]
    },
    {
      "cell_type": "code",
      "source": [
        "# Multiply tensor by 10\n",
        "tensor*10"
      ],
      "metadata": {
        "colab": {
          "base_uri": "https://localhost:8080/"
        },
        "id": "_2PU9XweZX73",
        "outputId": "d27173c4-b97d-4285-ceb4-954f8d58e242"
      },
      "execution_count": 86,
      "outputs": [
        {
          "output_type": "execute_result",
          "data": {
            "text/plain": [
              "tensor([10, 20, 30])"
            ]
          },
          "metadata": {},
          "execution_count": 86
        }
      ]
    },
    {
      "cell_type": "code",
      "source": [
        "tensor"
      ],
      "metadata": {
        "colab": {
          "base_uri": "https://localhost:8080/"
        },
        "id": "FStJUFOtZX5Y",
        "outputId": "be0ebc2a-b5e1-4161-951f-90db0cc2fa0b"
      },
      "execution_count": 87,
      "outputs": [
        {
          "output_type": "execute_result",
          "data": {
            "text/plain": [
              "tensor([1, 2, 3])"
            ]
          },
          "metadata": {},
          "execution_count": 87
        }
      ]
    },
    {
      "cell_type": "code",
      "source": [
        "# Subtract 10\n",
        "tensor-10"
      ],
      "metadata": {
        "id": "aFKZyxQdZXyX",
        "colab": {
          "base_uri": "https://localhost:8080/"
        },
        "outputId": "d92dcfc6-367d-48eb-f78f-eb4f5f570598"
      },
      "execution_count": 88,
      "outputs": [
        {
          "output_type": "execute_result",
          "data": {
            "text/plain": [
              "tensor([-9, -8, -7])"
            ]
          },
          "metadata": {},
          "execution_count": 88
        }
      ]
    },
    {
      "cell_type": "code",
      "source": [
        "# Try out PyTorch in-built functions\n",
        "torch.mul(tensor,10)"
      ],
      "metadata": {
        "colab": {
          "base_uri": "https://localhost:8080/"
        },
        "id": "8t9GOr_bZXs2",
        "outputId": "db33f981-a50b-4847-f497-1db9aa285571"
      },
      "execution_count": 89,
      "outputs": [
        {
          "output_type": "execute_result",
          "data": {
            "text/plain": [
              "tensor([10, 20, 30])"
            ]
          },
          "metadata": {},
          "execution_count": 89
        }
      ]
    },
    {
      "cell_type": "code",
      "source": [
        "torch.add(tensor,10)"
      ],
      "metadata": {
        "colab": {
          "base_uri": "https://localhost:8080/"
        },
        "id": "mu3eyOfQrt6u",
        "outputId": "74fcc1da-80e3-43e5-b389-72ffd1568001"
      },
      "execution_count": 90,
      "outputs": [
        {
          "output_type": "execute_result",
          "data": {
            "text/plain": [
              "tensor([11, 12, 13])"
            ]
          },
          "metadata": {},
          "execution_count": 90
        }
      ]
    },
    {
      "cell_type": "markdown",
      "source": [
        "### Matrix multiplication\n",
        "\n",
        "Two main ways of performing multiplication in neural networkd and deep learning\n",
        "\n",
        "1. Element-wise multiplication\n",
        "2. Matrix multiplication(dot product)\n",
        "\n",
        "More information on multiplying matrixes-\n",
        "https://www.mathsisfun.com/algebra/matrix-multiplying.html\n",
        "\n",
        "There are 2 main rules that performing matrix multiplication needs to satisfy:\n",
        "1. The **inner dimensions** must match:\n",
        "* only'(3,2)@(2,3)'will work but not (3,2)@(3,2)\n",
        "2. The resulting matrix has the shape of the **outing dimensions**:\n",
        "* '(2,3)*(3,2)'->'(2,2)'\n",
        "* '(3,2)*(2,3)'->'(3,2)'"
      ],
      "metadata": {
        "id": "22T_bZCste89"
      }
    },
    {
      "cell_type": "code",
      "source": [
        "torch.rand(3,2).shape"
      ],
      "metadata": {
        "colab": {
          "base_uri": "https://localhost:8080/"
        },
        "id": "7k1ABed0-Any",
        "outputId": "8b32d1fd-9d52-4c74-fb1a-80fe7a91062e"
      },
      "execution_count": 91,
      "outputs": [
        {
          "output_type": "execute_result",
          "data": {
            "text/plain": [
              "torch.Size([3, 2])"
            ]
          },
          "metadata": {},
          "execution_count": 91
        }
      ]
    },
    {
      "cell_type": "code",
      "source": [
        "# Element wise multiplication\n",
        "print(tensor,\"*\",tensor)\n",
        "print(f\"Equals:{tensor*tensor}\")"
      ],
      "metadata": {
        "colab": {
          "base_uri": "https://localhost:8080/"
        },
        "id": "AXEa18XkxBso",
        "outputId": "eeedcd1f-ba8d-4fd9-d21f-b489b6ee19ff"
      },
      "execution_count": 92,
      "outputs": [
        {
          "output_type": "stream",
          "name": "stdout",
          "text": [
            "tensor([1, 2, 3]) * tensor([1, 2, 3])\n",
            "Equals:tensor([1, 4, 9])\n"
          ]
        }
      ]
    },
    {
      "cell_type": "code",
      "source": [
        "# Matrix multiplication\n",
        "torch.matmul(tensor,tensor)"
      ],
      "metadata": {
        "colab": {
          "base_uri": "https://localhost:8080/"
        },
        "id": "uYdQNOZgxFYH",
        "outputId": "975a66a1-ffb1-49bc-8d9e-b3f64b843461"
      },
      "execution_count": 93,
      "outputs": [
        {
          "output_type": "execute_result",
          "data": {
            "text/plain": [
              "tensor(14)"
            ]
          },
          "metadata": {},
          "execution_count": 93
        }
      ]
    },
    {
      "cell_type": "code",
      "source": [
        "tensor @tensor"
      ],
      "metadata": {
        "colab": {
          "base_uri": "https://localhost:8080/"
        },
        "id": "IasfQzZy9OVj",
        "outputId": "c389b25d-f13e-4c9e-9e78-19d86c82c89c"
      },
      "execution_count": 94,
      "outputs": [
        {
          "output_type": "execute_result",
          "data": {
            "text/plain": [
              "tensor(14)"
            ]
          },
          "metadata": {},
          "execution_count": 94
        }
      ]
    },
    {
      "cell_type": "code",
      "source": [
        "tensor"
      ],
      "metadata": {
        "colab": {
          "base_uri": "https://localhost:8080/"
        },
        "id": "YmbiDHcdyxTZ",
        "outputId": "578f5f4c-d38c-4711-aec9-7d37138160d9"
      },
      "execution_count": 95,
      "outputs": [
        {
          "output_type": "execute_result",
          "data": {
            "text/plain": [
              "tensor([1, 2, 3])"
            ]
          },
          "metadata": {},
          "execution_count": 95
        }
      ]
    },
    {
      "cell_type": "code",
      "source": [
        "#matrix multiplication by hand\n",
        "1*1+2*2+3*3"
      ],
      "metadata": {
        "colab": {
          "base_uri": "https://localhost:8080/"
        },
        "id": "94TriESfyy-7",
        "outputId": "8789509b-a92a-4fd6-9bc9-080862348b7a"
      },
      "execution_count": 96,
      "outputs": [
        {
          "output_type": "execute_result",
          "data": {
            "text/plain": [
              "14"
            ]
          },
          "metadata": {},
          "execution_count": 96
        }
      ]
    },
    {
      "cell_type": "code",
      "source": [
        "%%time\n",
        "value=0\n",
        "for i in range(len(tensor)):\n",
        " value +=tensor[i]*tensor[i]\n",
        "print(value)"
      ],
      "metadata": {
        "colab": {
          "base_uri": "https://localhost:8080/"
        },
        "id": "rZF44sfQzGC8",
        "outputId": "8541d8e4-07ef-45db-e181-44ce28a1558c"
      },
      "execution_count": 97,
      "outputs": [
        {
          "output_type": "stream",
          "name": "stdout",
          "text": [
            "tensor(14)\n",
            "CPU times: user 0 ns, sys: 352 µs, total: 352 µs\n",
            "Wall time: 361 µs\n"
          ]
        }
      ]
    },
    {
      "cell_type": "code",
      "source": [
        "%%time\n",
        "torch.matmul(tensor,tensor)"
      ],
      "metadata": {
        "colab": {
          "base_uri": "https://localhost:8080/"
        },
        "id": "MK4wSQ2ezF9O",
        "outputId": "c9666f8f-24df-40a4-db8f-78022da06f18"
      },
      "execution_count": 98,
      "outputs": [
        {
          "output_type": "stream",
          "name": "stdout",
          "text": [
            "CPU times: user 28 µs, sys: 5 µs, total: 33 µs\n",
            "Wall time: 35.8 µs\n"
          ]
        },
        {
          "output_type": "execute_result",
          "data": {
            "text/plain": [
              "tensor(14)"
            ]
          },
          "metadata": {},
          "execution_count": 98
        }
      ]
    },
    {
      "cell_type": "markdown",
      "source": [
        "### One of the most common errors in deep learning:shape errors\n",
        "\n",
        "check:http://matrixmultiplication.xyz/\n"
      ],
      "metadata": {
        "id": "vOfD-e6ZzF6v"
      }
    },
    {
      "cell_type": "code",
      "source": [
        "# Shapes for matrix multiplication\n",
        "tensor_A = torch.tensor([[1,2],\n",
        "              [3,4],\n",
        "              [5,6]])\n",
        "tensor_B = torch.tensor([[7,10],\n",
        "              [8,11],\n",
        "              [9,12]])\n",
        "\n",
        "# torch.matmul = torch.mm\n",
        "torch.mm(tensor_A,tensor_B)\n"
      ],
      "metadata": {
        "id": "V4QCK-1DzFeC",
        "colab": {
          "base_uri": "https://localhost:8080/",
          "height": 218
        },
        "outputId": "eac52590-6983-4167-9215-c1173cd28f6f"
      },
      "execution_count": 99,
      "outputs": [
        {
          "output_type": "error",
          "ename": "RuntimeError",
          "evalue": "ignored",
          "traceback": [
            "\u001b[0;31m---------------------------------------------------------------------------\u001b[0m",
            "\u001b[0;31mRuntimeError\u001b[0m                              Traceback (most recent call last)",
            "\u001b[0;32m<ipython-input-99-182e24f8f4db>\u001b[0m in \u001b[0;36m<cell line: 10>\u001b[0;34m()\u001b[0m\n\u001b[1;32m      8\u001b[0m \u001b[0;34m\u001b[0m\u001b[0m\n\u001b[1;32m      9\u001b[0m \u001b[0;31m# torch.matmul = torch.mm\u001b[0m\u001b[0;34m\u001b[0m\u001b[0;34m\u001b[0m\u001b[0m\n\u001b[0;32m---> 10\u001b[0;31m \u001b[0mtorch\u001b[0m\u001b[0;34m.\u001b[0m\u001b[0mmm\u001b[0m\u001b[0;34m(\u001b[0m\u001b[0mtensor_A\u001b[0m\u001b[0;34m,\u001b[0m\u001b[0mtensor_B\u001b[0m\u001b[0;34m)\u001b[0m\u001b[0;34m\u001b[0m\u001b[0;34m\u001b[0m\u001b[0m\n\u001b[0m",
            "\u001b[0;31mRuntimeError\u001b[0m: mat1 and mat2 shapes cannot be multiplied (3x2 and 3x2)"
          ]
        }
      ]
    },
    {
      "cell_type": "code",
      "source": [
        "tensor_A.shape,tensor_B.shape"
      ],
      "metadata": {
        "id": "ZJ0LG4zxFYLd",
        "colab": {
          "base_uri": "https://localhost:8080/"
        },
        "outputId": "7eb500c2-dc6b-4c78-c9b4-b4854c2794aa"
      },
      "execution_count": 101,
      "outputs": [
        {
          "output_type": "execute_result",
          "data": {
            "text/plain": [
              "(torch.Size([3, 2]), torch.Size([3, 2]))"
            ]
          },
          "metadata": {},
          "execution_count": 101
        }
      ]
    },
    {
      "cell_type": "markdown",
      "source": [
        "To fix the tensor shape issues, we can manipulate the shape of one of our tensors using **teanspose**\n",
        "\n",
        "A **transpose** switches the axes or dimensions of a given tensor"
      ],
      "metadata": {
        "id": "EuATq8s5FYIy"
      }
    },
    {
      "cell_type": "code",
      "source": [
        "tensor_B.T,tensor_B.T.shape"
      ],
      "metadata": {
        "colab": {
          "base_uri": "https://localhost:8080/"
        },
        "id": "2zIq2Q2GFYCO",
        "outputId": "39a9a8f4-0395-427f-bfb2-9ede1ccd1ab3"
      },
      "execution_count": 102,
      "outputs": [
        {
          "output_type": "execute_result",
          "data": {
            "text/plain": [
              "(tensor([[ 7,  8,  9],\n",
              "         [10, 11, 12]]),\n",
              " torch.Size([2, 3]))"
            ]
          },
          "metadata": {},
          "execution_count": 102
        }
      ]
    },
    {
      "cell_type": "code",
      "source": [
        "tensor_B,tensor_B.shape"
      ],
      "metadata": {
        "colab": {
          "base_uri": "https://localhost:8080/"
        },
        "id": "_gExZcCjGG0-",
        "outputId": "0ff6ed54-0ae3-4f2a-edc9-68e67754fe5a"
      },
      "execution_count": 103,
      "outputs": [
        {
          "output_type": "execute_result",
          "data": {
            "text/plain": [
              "(tensor([[ 7, 10],\n",
              "         [ 8, 11],\n",
              "         [ 9, 12]]),\n",
              " torch.Size([3, 2]))"
            ]
          },
          "metadata": {},
          "execution_count": 103
        }
      ]
    },
    {
      "cell_type": "code",
      "source": [
        "torch.mm(tensor_A,tensor_B.T)"
      ],
      "metadata": {
        "colab": {
          "base_uri": "https://localhost:8080/"
        },
        "id": "_Gzw5ehWGhHw",
        "outputId": "469caa17-f2b4-4747-ba98-22389cd7afc5"
      },
      "execution_count": 104,
      "outputs": [
        {
          "output_type": "execute_result",
          "data": {
            "text/plain": [
              "tensor([[ 27,  30,  33],\n",
              "        [ 61,  68,  75],\n",
              "        [ 95, 106, 117]])"
            ]
          },
          "metadata": {},
          "execution_count": 104
        }
      ]
    },
    {
      "cell_type": "code",
      "source": [
        "torch.mm(tensor_A,tensor_B.T).shape"
      ],
      "metadata": {
        "colab": {
          "base_uri": "https://localhost:8080/"
        },
        "id": "nCA680vJJL3E",
        "outputId": "f6eef938-aa62-4940-b9e2-07dbd64cfcc8"
      },
      "execution_count": 105,
      "outputs": [
        {
          "output_type": "execute_result",
          "data": {
            "text/plain": [
              "torch.Size([3, 3])"
            ]
          },
          "metadata": {},
          "execution_count": 105
        }
      ]
    },
    {
      "cell_type": "code",
      "source": [
        "# The matrix multiplication operation works when tensor_B is transposed\n",
        "print(f\"Original shapes: tensor_A ={tensor_A.shape}, tensor_B ={tensor_B.shape}\")\n",
        "print(f\"New shapes: tensor_A ={tensor_A.shape}(same shape as above),tensor_B.T ={tensor_B.T.shape}\")\n",
        "print(f\"Multiplying:{tensor_A.shape}@{tensor_B.shape}<- inner dimensions must match\")\n",
        "print(\"Output:\\n\")\n",
        "output = torch.matmul(tensor_A,tensor_B.T)\n",
        "print(output)\n",
        "print(f\"\\nOutput shape:{output.shape}\")"
      ],
      "metadata": {
        "colab": {
          "base_uri": "https://localhost:8080/"
        },
        "id": "73-naxnPHUaH",
        "outputId": "9e97b984-e2a2-411a-b134-311c15b4be92"
      },
      "execution_count": 106,
      "outputs": [
        {
          "output_type": "stream",
          "name": "stdout",
          "text": [
            "Original shapes: tensor_A =torch.Size([3, 2]), tensor_B =torch.Size([3, 2])\n",
            "New shapes: tensor_A =torch.Size([3, 2])(same shape as above),tensor_B.T =torch.Size([2, 3])\n",
            "Multiplying:torch.Size([3, 2])@torch.Size([3, 2])<- inner dimensions must match\n",
            "Output:\n",
            "\n",
            "tensor([[ 27,  30,  33],\n",
            "        [ 61,  68,  75],\n",
            "        [ 95, 106, 117]])\n",
            "\n",
            "Output shape:torch.Size([3, 3])\n"
          ]
        }
      ]
    },
    {
      "cell_type": "markdown",
      "source": [
        "## Finding the min, max,mean, sum, etc (tensor aggregation)"
      ],
      "metadata": {
        "id": "xhmgLiSYHVkz"
      }
    },
    {
      "cell_type": "code",
      "source": [
        "# Create a tensor\n",
        "x = torch.arange(1,100,10)\n",
        "x,x.dtype"
      ],
      "metadata": {
        "colab": {
          "base_uri": "https://localhost:8080/"
        },
        "id": "MvA7YrKgOTeg",
        "outputId": "db520cdd-a95d-4ee6-8c54-7e5ae6cf5af2"
      },
      "execution_count": 107,
      "outputs": [
        {
          "output_type": "execute_result",
          "data": {
            "text/plain": [
              "(tensor([ 1, 11, 21, 31, 41, 51, 61, 71, 81, 91]), torch.int64)"
            ]
          },
          "metadata": {},
          "execution_count": 107
        }
      ]
    },
    {
      "cell_type": "code",
      "source": [
        "# Find the min\n",
        "torch.min(x),x.min()"
      ],
      "metadata": {
        "colab": {
          "base_uri": "https://localhost:8080/"
        },
        "id": "0hGx4jySOciS",
        "outputId": "72873560-55bb-4afd-b47c-2b9cbd76f10f"
      },
      "execution_count": 108,
      "outputs": [
        {
          "output_type": "execute_result",
          "data": {
            "text/plain": [
              "(tensor(1), tensor(1))"
            ]
          },
          "metadata": {},
          "execution_count": 108
        }
      ]
    },
    {
      "cell_type": "code",
      "source": [
        "# Find the max\n",
        "torch.max(x),x.max()"
      ],
      "metadata": {
        "colab": {
          "base_uri": "https://localhost:8080/"
        },
        "id": "7bRbGi65Oj9V",
        "outputId": "f4a29b48-a8e0-4792-fd96-839d3d582f51"
      },
      "execution_count": 109,
      "outputs": [
        {
          "output_type": "execute_result",
          "data": {
            "text/plain": [
              "(tensor(91), tensor(91))"
            ]
          },
          "metadata": {},
          "execution_count": 109
        }
      ]
    },
    {
      "cell_type": "code",
      "source": [
        "# Find the mean - note: the torch.mean() function requires a tensor of float32 datatype to work\n",
        "torch.mean(x.type(torch.float32)),x.type(torch.float).mean()"
      ],
      "metadata": {
        "colab": {
          "base_uri": "https://localhost:8080/"
        },
        "id": "mGSWMDiEOtru",
        "outputId": "df440e94-14b2-414c-e39e-ed5ccb424d5d"
      },
      "execution_count": 110,
      "outputs": [
        {
          "output_type": "execute_result",
          "data": {
            "text/plain": [
              "(tensor(46.), tensor(46.))"
            ]
          },
          "metadata": {},
          "execution_count": 110
        }
      ]
    },
    {
      "cell_type": "code",
      "source": [
        "# Find the sum\n",
        "torch.sum(x),x.sum()"
      ],
      "metadata": {
        "colab": {
          "base_uri": "https://localhost:8080/"
        },
        "id": "G7zxoDEcW0fR",
        "outputId": "ddee5be4-6047-4bb6-a50b-669c8d80c763"
      },
      "execution_count": 111,
      "outputs": [
        {
          "output_type": "execute_result",
          "data": {
            "text/plain": [
              "(tensor(460), tensor(460))"
            ]
          },
          "metadata": {},
          "execution_count": 111
        }
      ]
    },
    {
      "cell_type": "markdown",
      "source": [
        "## Finding the positional min and max"
      ],
      "metadata": {
        "id": "mcNU8kBOcZtq"
      }
    },
    {
      "cell_type": "code",
      "source": [
        "# Find the position in tensor that has the minimum value with argmin() -> returns index position of target tensor where the minimum value occurs\n",
        "x.argmin()"
      ],
      "metadata": {
        "colab": {
          "base_uri": "https://localhost:8080/"
        },
        "id": "VocJCgubpsvt",
        "outputId": "417b22a1-d562-4e69-9f94-09d5de098a1b"
      },
      "execution_count": 112,
      "outputs": [
        {
          "output_type": "execute_result",
          "data": {
            "text/plain": [
              "tensor(0)"
            ]
          },
          "metadata": {},
          "execution_count": 112
        }
      ]
    },
    {
      "cell_type": "code",
      "source": [
        "x[0]"
      ],
      "metadata": {
        "id": "WTJAkZbbrbz2",
        "colab": {
          "base_uri": "https://localhost:8080/"
        },
        "outputId": "c6bc9e5f-d44f-4d2f-c566-a73145f413a8"
      },
      "execution_count": 113,
      "outputs": [
        {
          "output_type": "execute_result",
          "data": {
            "text/plain": [
              "tensor(1)"
            ]
          },
          "metadata": {},
          "execution_count": 113
        }
      ]
    },
    {
      "cell_type": "code",
      "source": [
        "#  the position of maximum value\n",
        "x.argmax()"
      ],
      "metadata": {
        "colab": {
          "base_uri": "https://localhost:8080/"
        },
        "id": "y9csYmm1reF8",
        "outputId": "b73b99ad-eec5-47d7-88b6-9b5a0dab0a67"
      },
      "execution_count": 114,
      "outputs": [
        {
          "output_type": "execute_result",
          "data": {
            "text/plain": [
              "tensor(9)"
            ]
          },
          "metadata": {},
          "execution_count": 114
        }
      ]
    },
    {
      "cell_type": "code",
      "source": [
        "x[9]"
      ],
      "metadata": {
        "colab": {
          "base_uri": "https://localhost:8080/"
        },
        "id": "2QfXefSCrooM",
        "outputId": "6e90fbc2-1597-41cb-fe83-e3ef6f017f14"
      },
      "execution_count": 115,
      "outputs": [
        {
          "output_type": "execute_result",
          "data": {
            "text/plain": [
              "tensor(91)"
            ]
          },
          "metadata": {},
          "execution_count": 115
        }
      ]
    },
    {
      "cell_type": "code",
      "source": [
        "x"
      ],
      "metadata": {
        "id": "B4waEugKrrMY",
        "colab": {
          "base_uri": "https://localhost:8080/"
        },
        "outputId": "b2940b5f-d566-43f0-afbf-ba98c66a8d4f"
      },
      "execution_count": 116,
      "outputs": [
        {
          "output_type": "execute_result",
          "data": {
            "text/plain": [
              "tensor([ 1, 11, 21, 31, 41, 51, 61, 71, 81, 91])"
            ]
          },
          "metadata": {},
          "execution_count": 116
        }
      ]
    },
    {
      "cell_type": "markdown",
      "source": [
        "## Reshaping, stacking, squeezing and unsqueezing tensors\n",
        "\n",
        "* Reshaping - reshapes an input tensor to a defined shape\n",
        "* View - Return a view of an input of certain shape but keep the same memory as the original tensor\n",
        "* Stacking - combine multiple tensors on top of each other(vstack) or side by side (hstack)\n",
        "* Squeeze - removes all \"1\" dimensions from a tensor\n",
        "* Unsqueeze - add a \"1\" dimension to a target tensor\n",
        "* Permute - Return a view of the input with dimensions permuted(swapped) in a certain way"
      ],
      "metadata": {
        "id": "4XVlFUBPoyu-"
      }
    },
    {
      "cell_type": "code",
      "source": [
        "# Create a tensor\n",
        "import torch\n",
        "x = torch.arange(1.,10.)\n",
        "x,x.shape"
      ],
      "metadata": {
        "colab": {
          "base_uri": "https://localhost:8080/"
        },
        "id": "iqSXP3QNqXLu",
        "outputId": "93975dbd-2165-4791-b2d1-f128568a699d"
      },
      "execution_count": 117,
      "outputs": [
        {
          "output_type": "execute_result",
          "data": {
            "text/plain": [
              "(tensor([1., 2., 3., 4., 5., 6., 7., 8., 9.]), torch.Size([9]))"
            ]
          },
          "metadata": {},
          "execution_count": 117
        }
      ]
    },
    {
      "cell_type": "code",
      "source": [
        "# Add an extra dimension\n",
        "x_reshaped = x.reshape(9,1)\n",
        "x_reshaped,x_reshaped.shape"
      ],
      "metadata": {
        "colab": {
          "base_uri": "https://localhost:8080/"
        },
        "id": "H_qHaLCXqowE",
        "outputId": "49d10ea2-e6ae-4cfe-a022-f3817e15747d"
      },
      "execution_count": 118,
      "outputs": [
        {
          "output_type": "execute_result",
          "data": {
            "text/plain": [
              "(tensor([[1.],\n",
              "         [2.],\n",
              "         [3.],\n",
              "         [4.],\n",
              "         [5.],\n",
              "         [6.],\n",
              "         [7.],\n",
              "         [8.],\n",
              "         [9.]]),\n",
              " torch.Size([9, 1]))"
            ]
          },
          "metadata": {},
          "execution_count": 118
        }
      ]
    },
    {
      "cell_type": "code",
      "source": [
        "# Change the view\n",
        "z = x.view(1,9)\n",
        "z,z.shape"
      ],
      "metadata": {
        "colab": {
          "base_uri": "https://localhost:8080/"
        },
        "id": "kyTW3hvVtJhs",
        "outputId": "b3e09050-3327-4bfb-cca5-58e490680716"
      },
      "execution_count": 119,
      "outputs": [
        {
          "output_type": "execute_result",
          "data": {
            "text/plain": [
              "(tensor([[1., 2., 3., 4., 5., 6., 7., 8., 9.]]), torch.Size([1, 9]))"
            ]
          },
          "metadata": {},
          "execution_count": 119
        }
      ]
    },
    {
      "cell_type": "code",
      "source": [
        "# Changing z changes x(because a view of a tensor shares the same memory as the original input)\n",
        "z[:,0] = 5\n",
        "z,x"
      ],
      "metadata": {
        "colab": {
          "base_uri": "https://localhost:8080/"
        },
        "id": "ySQYBF-9xZsI",
        "outputId": "2ff96f24-9544-456e-910d-0ec596c8067b"
      },
      "execution_count": 120,
      "outputs": [
        {
          "output_type": "execute_result",
          "data": {
            "text/plain": [
              "(tensor([[5., 2., 3., 4., 5., 6., 7., 8., 9.]]),\n",
              " tensor([5., 2., 3., 4., 5., 6., 7., 8., 9.]))"
            ]
          },
          "metadata": {},
          "execution_count": 120
        }
      ]
    },
    {
      "cell_type": "code",
      "source": [
        "# Stack tensors on top of each other\n",
        "x_stacked = torch.stack([x,x,x,x], dim=0)\n",
        "x_stacked"
      ],
      "metadata": {
        "colab": {
          "base_uri": "https://localhost:8080/"
        },
        "id": "1EkgxYEaxxR2",
        "outputId": "bc03cc73-a7f3-4751-dac2-db7155a9e864"
      },
      "execution_count": 121,
      "outputs": [
        {
          "output_type": "execute_result",
          "data": {
            "text/plain": [
              "tensor([[5., 2., 3., 4., 5., 6., 7., 8., 9.],\n",
              "        [5., 2., 3., 4., 5., 6., 7., 8., 9.],\n",
              "        [5., 2., 3., 4., 5., 6., 7., 8., 9.],\n",
              "        [5., 2., 3., 4., 5., 6., 7., 8., 9.]])"
            ]
          },
          "metadata": {},
          "execution_count": 121
        }
      ]
    },
    {
      "cell_type": "code",
      "source": [
        "# Stack tensors on top of each other\n",
        "x_stacked = torch.stack([x,x,x,x], dim=1)\n",
        "x_stacked"
      ],
      "metadata": {
        "colab": {
          "base_uri": "https://localhost:8080/"
        },
        "id": "DBzTeZSpyEPe",
        "outputId": "98b1bf36-40d6-4883-9b3a-67e02d92d279"
      },
      "execution_count": 122,
      "outputs": [
        {
          "output_type": "execute_result",
          "data": {
            "text/plain": [
              "tensor([[5., 5., 5., 5.],\n",
              "        [2., 2., 2., 2.],\n",
              "        [3., 3., 3., 3.],\n",
              "        [4., 4., 4., 4.],\n",
              "        [5., 5., 5., 5.],\n",
              "        [6., 6., 6., 6.],\n",
              "        [7., 7., 7., 7.],\n",
              "        [8., 8., 8., 8.],\n",
              "        [9., 9., 9., 9.]])"
            ]
          },
          "metadata": {},
          "execution_count": 122
        }
      ]
    },
    {
      "cell_type": "code",
      "source": [
        "# Note:vstack using dimension=0,hstack using dimension=1"
      ],
      "metadata": {
        "id": "4z-etrEEyLkd"
      },
      "execution_count": 123,
      "outputs": []
    },
    {
      "cell_type": "code",
      "source": [
        "# torch.squeeze() - removes all single dimensions from a target tensor\n",
        "print(f\"Previous tensor:{z}\")\n",
        "print(f\"Previous shape:{x_reshaped.shape}\")\n",
        "\n",
        "# Remove extra dimensions from x_reshaped\n",
        "z_squeezed = z.squeeze()\n",
        "print(f\"\\nNew tensor:{z_squeezed}\")\n",
        "print(f\"New shape:{z_squeezed.shape}\")"
      ],
      "metadata": {
        "id": "KCFkyNwsyi9X",
        "colab": {
          "base_uri": "https://localhost:8080/"
        },
        "outputId": "090531d6-6eb4-4f88-dcfc-ebbdfd8bc830"
      },
      "execution_count": 124,
      "outputs": [
        {
          "output_type": "stream",
          "name": "stdout",
          "text": [
            "Previous tensor:tensor([[5., 2., 3., 4., 5., 6., 7., 8., 9.]])\n",
            "Previous shape:torch.Size([9, 1])\n",
            "\n",
            "New tensor:tensor([5., 2., 3., 4., 5., 6., 7., 8., 9.])\n",
            "New shape:torch.Size([9])\n"
          ]
        }
      ]
    },
    {
      "cell_type": "code",
      "source": [
        "# torch.unsqueeze() - adds a single dimension to a target tensor at a specific dim (dimension)\n",
        "print(f\"Previous target:{z_squeezed}\")\n",
        "print(f\"Previous shape:{z_squeezed.shape}\")\n",
        "\n",
        "# Add an extra dimension with unsqueeze\n",
        "z_unsqueezed = z_squeezed.unsqueeze(dim=0)#could be 1 or any number\n",
        "print(f\"\\nNew tensor:{z_unsqueezed}\")\n",
        "print(f\"New shape:{z_unsqueezed.shape}\")"
      ],
      "metadata": {
        "colab": {
          "base_uri": "https://localhost:8080/"
        },
        "id": "03mwfDPsDOKo",
        "outputId": "23de016a-449e-4469-a4ae-da6c94af5046"
      },
      "execution_count": 125,
      "outputs": [
        {
          "output_type": "stream",
          "name": "stdout",
          "text": [
            "Previous target:tensor([5., 2., 3., 4., 5., 6., 7., 8., 9.])\n",
            "Previous shape:torch.Size([9])\n",
            "\n",
            "New tensor:tensor([[5., 2., 3., 4., 5., 6., 7., 8., 9.]])\n",
            "New shape:torch.Size([1, 9])\n"
          ]
        }
      ]
    },
    {
      "cell_type": "code",
      "source": [
        "# torch.permute - rearrange the dimensions of a target tensor in a specified order\n",
        "x_original = torch.rand(size = (224,224,3)) #[height,width,colour_channels]\n",
        "\n",
        "# Permute the original tensor to rearrange the axis (or dim) order\n",
        "x_permuted = x_original.permute(2,0,1) #shifts axis 0->1,1->2,2->0\n",
        "\n",
        "print(f\"Previous shape:{x_original.shape}\")\n",
        "print(f\"New shape:{x_permuted.shape}\") #[colour_channels,height,width]"
      ],
      "metadata": {
        "colab": {
          "base_uri": "https://localhost:8080/"
        },
        "id": "olSsyK7ng9wr",
        "outputId": "6ac70078-912d-4eae-ac31-cafd7f71ae08"
      },
      "execution_count": 126,
      "outputs": [
        {
          "output_type": "stream",
          "name": "stdout",
          "text": [
            "Previous shape:torch.Size([224, 224, 3])\n",
            "New shape:torch.Size([3, 224, 224])\n"
          ]
        }
      ]
    },
    {
      "cell_type": "code",
      "source": [
        "x_original[0,:,:]"
      ],
      "metadata": {
        "colab": {
          "base_uri": "https://localhost:8080/"
        },
        "id": "CaRxMyuOkXfF",
        "outputId": "84a60c7f-5176-4e0a-faa9-397ad51577c2"
      },
      "execution_count": 127,
      "outputs": [
        {
          "output_type": "execute_result",
          "data": {
            "text/plain": [
              "tensor([[1.7089e-01, 1.7632e-02, 4.3481e-02],\n",
              "        [6.0381e-01, 4.2526e-01, 7.4685e-01],\n",
              "        [3.4376e-01, 9.8436e-01, 7.0493e-01],\n",
              "        [3.1998e-01, 5.5002e-01, 7.9133e-01],\n",
              "        [3.1180e-01, 2.8556e-01, 5.8979e-01],\n",
              "        [5.5454e-01, 5.3875e-01, 1.0232e-01],\n",
              "        [9.4345e-01, 5.7106e-01, 5.1514e-01],\n",
              "        [4.3002e-01, 9.2089e-01, 4.0737e-01],\n",
              "        [7.7832e-01, 5.1747e-01, 7.2490e-01],\n",
              "        [7.2091e-01, 2.5174e-01, 2.9850e-01],\n",
              "        [3.1354e-01, 8.3197e-01, 5.0670e-01],\n",
              "        [6.4628e-01, 6.1583e-01, 4.6253e-01],\n",
              "        [2.8256e-01, 6.7452e-01, 2.6918e-01],\n",
              "        [8.8058e-01, 9.5841e-03, 5.7448e-01],\n",
              "        [9.5862e-01, 6.8538e-01, 1.7251e-01],\n",
              "        [7.8655e-02, 4.7213e-01, 8.1071e-01],\n",
              "        [4.0672e-01, 2.1577e-01, 6.2870e-01],\n",
              "        [1.5259e-01, 3.7300e-01, 6.8645e-01],\n",
              "        [9.1034e-01, 5.5159e-01, 1.4310e-02],\n",
              "        [1.2809e-01, 6.8071e-01, 4.8352e-01],\n",
              "        [6.5018e-01, 7.2747e-01, 4.6164e-01],\n",
              "        [9.5220e-01, 2.2907e-01, 7.4770e-01],\n",
              "        [7.9812e-01, 9.1798e-01, 7.2592e-01],\n",
              "        [3.5064e-01, 4.0206e-01, 7.3986e-02],\n",
              "        [2.0890e-02, 2.7039e-01, 9.4238e-02],\n",
              "        [7.9711e-01, 9.1121e-01, 8.1061e-01],\n",
              "        [9.2226e-01, 7.0243e-01, 7.9158e-01],\n",
              "        [8.7985e-01, 7.1032e-01, 1.7422e-01],\n",
              "        [7.6516e-01, 8.6528e-01, 5.5086e-01],\n",
              "        [5.5944e-01, 9.1506e-01, 2.5970e-01],\n",
              "        [4.0434e-02, 6.3347e-01, 8.8800e-01],\n",
              "        [1.5394e-01, 9.3265e-01, 4.3677e-01],\n",
              "        [4.3051e-01, 8.9826e-01, 1.4298e-01],\n",
              "        [7.6006e-01, 5.8625e-01, 2.9896e-02],\n",
              "        [6.0954e-01, 1.0568e-01, 4.4036e-01],\n",
              "        [1.4668e-01, 5.8224e-01, 9.3680e-01],\n",
              "        [1.2722e-01, 1.4827e-01, 5.1839e-01],\n",
              "        [3.7525e-01, 3.2963e-01, 4.2634e-01],\n",
              "        [8.6661e-01, 7.3792e-02, 7.2090e-01],\n",
              "        [2.6250e-01, 4.4280e-01, 2.5402e-01],\n",
              "        [3.6061e-01, 1.3199e-01, 3.5933e-01],\n",
              "        [5.7935e-01, 5.8232e-01, 3.9029e-01],\n",
              "        [7.5020e-01, 4.4337e-01, 2.6284e-01],\n",
              "        [8.8636e-01, 2.6552e-01, 9.8962e-01],\n",
              "        [9.8004e-01, 3.7278e-02, 9.6658e-01],\n",
              "        [4.7282e-01, 4.7874e-01, 3.3438e-01],\n",
              "        [1.5031e-01, 7.8278e-02, 3.4777e-01],\n",
              "        [6.4375e-01, 3.7525e-01, 4.0111e-01],\n",
              "        [9.5502e-01, 9.5224e-01, 3.3004e-01],\n",
              "        [2.1553e-01, 9.4737e-01, 3.7214e-01],\n",
              "        [7.1831e-01, 3.6871e-01, 3.7408e-01],\n",
              "        [9.7478e-01, 3.8936e-02, 1.2578e-01],\n",
              "        [3.8311e-01, 8.5671e-01, 8.7325e-01],\n",
              "        [3.0113e-02, 3.1540e-01, 1.1095e-01],\n",
              "        [8.8860e-01, 8.0392e-01, 8.8662e-01],\n",
              "        [7.3828e-01, 2.8888e-01, 9.7207e-01],\n",
              "        [9.2957e-01, 9.8676e-01, 3.3201e-01],\n",
              "        [9.0114e-01, 3.0541e-01, 2.8934e-01],\n",
              "        [8.7621e-02, 7.6481e-01, 6.4560e-01],\n",
              "        [2.9215e-01, 5.2842e-01, 2.0701e-01],\n",
              "        [1.3582e-02, 2.2411e-01, 7.3267e-01],\n",
              "        [3.6829e-01, 6.5836e-01, 8.8711e-01],\n",
              "        [7.8123e-01, 7.9329e-01, 5.0230e-01],\n",
              "        [2.8232e-01, 9.7823e-01, 2.5702e-01],\n",
              "        [9.7694e-01, 8.2961e-01, 5.8015e-01],\n",
              "        [6.2324e-01, 6.0681e-01, 4.3321e-01],\n",
              "        [8.8815e-01, 4.4518e-01, 7.6069e-01],\n",
              "        [5.6520e-01, 8.8465e-01, 7.3570e-01],\n",
              "        [5.1197e-01, 7.0643e-01, 7.2323e-01],\n",
              "        [6.8709e-01, 1.2483e-01, 1.2108e-01],\n",
              "        [7.2468e-01, 5.0811e-01, 9.1129e-01],\n",
              "        [1.7400e-01, 1.7538e-01, 9.0048e-01],\n",
              "        [5.4334e-01, 9.0683e-01, 1.9696e-01],\n",
              "        [5.8249e-02, 3.2741e-01, 8.9669e-01],\n",
              "        [6.1071e-01, 8.1549e-01, 9.2379e-01],\n",
              "        [1.2200e-02, 4.7994e-01, 1.0101e-01],\n",
              "        [8.9664e-01, 8.3843e-01, 3.3055e-02],\n",
              "        [8.0155e-01, 2.3883e-01, 7.6848e-01],\n",
              "        [7.2820e-02, 4.4831e-01, 5.3302e-01],\n",
              "        [5.0669e-01, 3.9553e-01, 2.2143e-01],\n",
              "        [9.0763e-01, 2.0845e-01, 7.0276e-01],\n",
              "        [9.7255e-02, 6.0866e-02, 6.7558e-02],\n",
              "        [6.9184e-01, 7.3196e-01, 7.6525e-01],\n",
              "        [9.2202e-01, 7.2260e-01, 1.8735e-01],\n",
              "        [3.8324e-01, 7.1681e-01, 9.4027e-01],\n",
              "        [6.5157e-01, 3.7246e-01, 4.1725e-01],\n",
              "        [8.5623e-01, 5.1804e-01, 8.4296e-01],\n",
              "        [4.4374e-02, 4.1441e-02, 9.9473e-01],\n",
              "        [7.9413e-01, 9.3604e-01, 1.5194e-02],\n",
              "        [4.6782e-01, 3.4006e-01, 7.1400e-01],\n",
              "        [8.6591e-01, 8.6106e-01, 3.4754e-02],\n",
              "        [6.0700e-01, 3.9610e-01, 8.1207e-01],\n",
              "        [6.3264e-01, 1.1858e-01, 2.1877e-01],\n",
              "        [2.0237e-03, 2.5110e-01, 9.7976e-01],\n",
              "        [1.1142e-01, 4.0311e-01, 4.1788e-01],\n",
              "        [5.5228e-01, 6.1608e-01, 3.3657e-01],\n",
              "        [5.3750e-01, 1.9492e-01, 4.1610e-01],\n",
              "        [3.0952e-01, 2.1165e-01, 5.8886e-01],\n",
              "        [8.3831e-01, 4.8739e-01, 6.8529e-01],\n",
              "        [3.8849e-01, 9.2828e-01, 9.2552e-01],\n",
              "        [8.5599e-01, 4.1947e-01, 4.7002e-01],\n",
              "        [9.6129e-01, 7.1510e-01, 6.3314e-01],\n",
              "        [4.7298e-01, 4.9129e-02, 5.0035e-01],\n",
              "        [3.7153e-01, 6.7645e-01, 8.3833e-01],\n",
              "        [7.9493e-01, 8.5766e-01, 7.4478e-01],\n",
              "        [7.9881e-01, 1.4638e-01, 5.7973e-01],\n",
              "        [1.0847e-01, 7.3782e-01, 5.1831e-02],\n",
              "        [7.7183e-01, 6.7265e-01, 8.7841e-01],\n",
              "        [5.8891e-01, 3.3904e-01, 4.0694e-01],\n",
              "        [6.9255e-02, 1.1321e-01, 4.3460e-01],\n",
              "        [5.7862e-01, 5.0219e-01, 4.3202e-01],\n",
              "        [5.0821e-01, 7.0638e-01, 2.2987e-01],\n",
              "        [6.7490e-01, 8.6439e-01, 4.6805e-01],\n",
              "        [8.5166e-01, 2.8241e-02, 1.9159e-01],\n",
              "        [2.4909e-01, 6.5705e-01, 3.5172e-01],\n",
              "        [9.7830e-03, 9.1283e-01, 2.3916e-01],\n",
              "        [5.0052e-01, 5.7741e-01, 9.0579e-01],\n",
              "        [8.7766e-01, 7.0951e-01, 6.6129e-01],\n",
              "        [3.5250e-01, 2.0430e-01, 6.9081e-01],\n",
              "        [8.0273e-01, 7.2695e-01, 1.9105e-01],\n",
              "        [5.7307e-01, 5.1901e-01, 8.5540e-01],\n",
              "        [3.6851e-01, 6.1956e-02, 3.1377e-01],\n",
              "        [9.3384e-01, 1.8461e-02, 5.2278e-01],\n",
              "        [3.7756e-01, 7.2475e-02, 2.5310e-01],\n",
              "        [6.4354e-01, 5.2345e-02, 7.1705e-01],\n",
              "        [1.1819e-02, 4.8927e-01, 7.1898e-01],\n",
              "        [6.8221e-01, 9.7140e-01, 2.8254e-01],\n",
              "        [7.3123e-01, 7.4049e-01, 3.3210e-01],\n",
              "        [7.6590e-01, 2.4127e-01, 4.3507e-03],\n",
              "        [7.6359e-01, 8.6275e-01, 1.6212e-01],\n",
              "        [2.5132e-01, 5.4188e-01, 7.9121e-01],\n",
              "        [7.1694e-01, 1.6126e-01, 1.7922e-01],\n",
              "        [6.0204e-01, 1.0935e-02, 8.4179e-01],\n",
              "        [9.5670e-01, 8.1484e-01, 8.0456e-01],\n",
              "        [6.0804e-01, 8.8152e-01, 3.8184e-01],\n",
              "        [1.4381e-01, 9.8995e-01, 2.9766e-01],\n",
              "        [9.1491e-01, 7.8305e-01, 3.0081e-01],\n",
              "        [8.5807e-01, 8.3599e-01, 2.9538e-01],\n",
              "        [1.6168e-01, 2.9123e-01, 5.9719e-01],\n",
              "        [2.6012e-01, 6.4687e-01, 5.1828e-01],\n",
              "        [3.1474e-01, 9.6831e-01, 3.9865e-01],\n",
              "        [4.2398e-01, 3.1696e-01, 1.4603e-01],\n",
              "        [3.1748e-01, 5.8476e-01, 7.6909e-01],\n",
              "        [3.3392e-01, 6.6300e-01, 7.4643e-01],\n",
              "        [7.3219e-01, 8.6835e-01, 7.7039e-01],\n",
              "        [8.4684e-01, 1.9448e-01, 7.1807e-01],\n",
              "        [2.6799e-01, 3.9023e-04, 4.7451e-01],\n",
              "        [5.2780e-01, 9.8403e-03, 1.3119e-01],\n",
              "        [5.7339e-01, 3.1270e-01, 8.3975e-01],\n",
              "        [7.9290e-01, 7.2102e-01, 8.9610e-01],\n",
              "        [2.2756e-01, 5.3912e-01, 3.3227e-01],\n",
              "        [3.7231e-01, 7.2527e-01, 2.4746e-01],\n",
              "        [6.1975e-01, 8.5887e-01, 2.3070e-01],\n",
              "        [6.5055e-01, 9.8600e-01, 3.4606e-01],\n",
              "        [4.6394e-02, 2.5557e-01, 3.8678e-01],\n",
              "        [4.0839e-01, 4.9414e-01, 1.9831e-01],\n",
              "        [8.6574e-01, 8.7648e-01, 5.1852e-01],\n",
              "        [3.3389e-01, 3.0828e-01, 1.0649e-01],\n",
              "        [4.2858e-01, 6.3306e-01, 2.0594e-01],\n",
              "        [1.7061e-01, 6.3342e-02, 4.3535e-01],\n",
              "        [5.0353e-01, 7.7045e-01, 1.5930e-01],\n",
              "        [6.4384e-01, 1.0487e-02, 4.2334e-01],\n",
              "        [4.1309e-01, 7.4293e-01, 7.4813e-01],\n",
              "        [2.7171e-01, 4.3383e-01, 1.9167e-01],\n",
              "        [9.4954e-01, 2.0290e-01, 1.5977e-01],\n",
              "        [8.2864e-02, 5.9073e-01, 7.5406e-01],\n",
              "        [5.6185e-01, 5.3164e-01, 4.7077e-01],\n",
              "        [4.7595e-01, 5.0521e-01, 3.9941e-01],\n",
              "        [2.5391e-01, 9.5067e-03, 4.2347e-01],\n",
              "        [1.0347e-01, 1.5412e-01, 6.1378e-01],\n",
              "        [3.1008e-01, 6.6370e-01, 9.6770e-01],\n",
              "        [7.6491e-04, 1.4854e-01, 6.7719e-01],\n",
              "        [7.7422e-01, 1.2171e-01, 1.5604e-01],\n",
              "        [3.8741e-01, 5.3052e-01, 1.2743e-01],\n",
              "        [8.3038e-01, 1.9415e-02, 6.0064e-01],\n",
              "        [4.0045e-01, 3.2039e-01, 4.7214e-01],\n",
              "        [5.9780e-01, 7.6001e-01, 6.4666e-01],\n",
              "        [1.3310e-01, 5.5262e-01, 9.2195e-01],\n",
              "        [2.5955e-02, 1.7460e-01, 5.2945e-01],\n",
              "        [4.2587e-01, 2.9534e-01, 6.3961e-01],\n",
              "        [6.8243e-01, 8.7289e-01, 5.2868e-02],\n",
              "        [4.2436e-01, 4.0857e-01, 5.0942e-01],\n",
              "        [9.0668e-02, 5.2293e-01, 5.0151e-01],\n",
              "        [8.8960e-01, 4.6313e-01, 1.0772e-01],\n",
              "        [7.1427e-01, 5.7902e-01, 2.8418e-01],\n",
              "        [8.4472e-01, 5.4920e-01, 1.1516e-01],\n",
              "        [7.2681e-01, 7.8053e-01, 4.9181e-01],\n",
              "        [4.5388e-01, 8.0702e-02, 3.6111e-01],\n",
              "        [7.1067e-02, 2.2629e-01, 6.1164e-01],\n",
              "        [7.7514e-01, 3.3262e-01, 5.0716e-01],\n",
              "        [6.6842e-01, 3.6026e-01, 2.9627e-01],\n",
              "        [8.7187e-01, 5.2726e-01, 4.1516e-01],\n",
              "        [5.4185e-01, 7.0374e-01, 6.5241e-01],\n",
              "        [3.7460e-01, 2.3383e-01, 6.4702e-01],\n",
              "        [5.4964e-01, 2.9886e-01, 5.8005e-01],\n",
              "        [8.4551e-01, 4.4951e-01, 7.5037e-01],\n",
              "        [8.8443e-01, 6.6438e-01, 2.2198e-01],\n",
              "        [3.9614e-02, 7.1401e-01, 7.3955e-01],\n",
              "        [7.2750e-01, 1.9559e-01, 3.0101e-01],\n",
              "        [3.7227e-01, 3.2333e-01, 6.3376e-03],\n",
              "        [9.5296e-01, 9.8685e-01, 8.4264e-01],\n",
              "        [3.4644e-01, 2.1524e-01, 2.1611e-01],\n",
              "        [8.2205e-01, 7.4168e-01, 7.1545e-01],\n",
              "        [2.7152e-01, 7.4773e-01, 6.3234e-01],\n",
              "        [7.7741e-01, 8.0130e-01, 5.4029e-01],\n",
              "        [2.4333e-01, 5.9984e-01, 5.8585e-01],\n",
              "        [2.0824e-01, 6.5264e-01, 3.7761e-01],\n",
              "        [8.1815e-01, 6.2403e-01, 2.5992e-01],\n",
              "        [9.4909e-01, 8.7442e-01, 5.8031e-01],\n",
              "        [1.2172e-01, 8.5713e-01, 9.7754e-01],\n",
              "        [7.8810e-01, 6.6165e-01, 5.4509e-01],\n",
              "        [8.4797e-01, 1.4863e-01, 6.8020e-01],\n",
              "        [6.9712e-01, 2.8078e-01, 6.8739e-01],\n",
              "        [4.2176e-01, 4.6023e-01, 5.3835e-01],\n",
              "        [4.0501e-01, 6.5791e-01, 9.8096e-02],\n",
              "        [1.3876e-01, 1.7253e-01, 8.1497e-01],\n",
              "        [4.8558e-01, 7.8381e-01, 5.7548e-01],\n",
              "        [1.6250e-01, 6.7932e-01, 2.3243e-01],\n",
              "        [2.8117e-02, 7.3642e-01, 6.4311e-01],\n",
              "        [4.5348e-01, 9.9149e-01, 9.9727e-01],\n",
              "        [3.6178e-01, 6.8004e-02, 4.7574e-02],\n",
              "        [2.6329e-01, 3.6259e-01, 4.9403e-01],\n",
              "        [6.1310e-01, 9.8303e-01, 6.6134e-01],\n",
              "        [2.1513e-02, 7.4642e-01, 2.5738e-01]])"
            ]
          },
          "metadata": {},
          "execution_count": 127
        }
      ]
    },
    {
      "cell_type": "code",
      "source": [
        "x_original[0,0,0] =728218\n",
        "x_original[0,0,0], x_permuted[0,0,0]"
      ],
      "metadata": {
        "colab": {
          "base_uri": "https://localhost:8080/"
        },
        "id": "DBKvGZEYedO6",
        "outputId": "5c7c54ca-5ba8-4584-d5db-f84cb2185ce7"
      },
      "execution_count": 128,
      "outputs": [
        {
          "output_type": "execute_result",
          "data": {
            "text/plain": [
              "(tensor(728218.), tensor(728218.))"
            ]
          },
          "metadata": {},
          "execution_count": 128
        }
      ]
    },
    {
      "cell_type": "markdown",
      "source": [
        "## Indexing (selecting data from tensors)\n",
        "\n",
        "Indexing with PyTorch is similar to indexing with Numpy."
      ],
      "metadata": {
        "id": "IksRVYJmeu9F"
      }
    },
    {
      "cell_type": "code",
      "source": [
        "# Create a tensor\n",
        "import torch\n",
        "x = torch.arange(1,10).reshape(1,3,3) #从1开始到10-1=9\n",
        "x,x.shape"
      ],
      "metadata": {
        "colab": {
          "base_uri": "https://localhost:8080/"
        },
        "id": "XznUaxMIho-3",
        "outputId": "c17af70c-40f3-44d5-c3f3-5ef5c3a4f04d"
      },
      "execution_count": 129,
      "outputs": [
        {
          "output_type": "execute_result",
          "data": {
            "text/plain": [
              "(tensor([[[1, 2, 3],\n",
              "          [4, 5, 6],\n",
              "          [7, 8, 9]]]),\n",
              " torch.Size([1, 3, 3]))"
            ]
          },
          "metadata": {},
          "execution_count": 129
        }
      ]
    },
    {
      "cell_type": "code",
      "source": [
        "# Let's index on our new tensor\n",
        "x[0]"
      ],
      "metadata": {
        "colab": {
          "base_uri": "https://localhost:8080/"
        },
        "id": "RhLOD9WKiRNJ",
        "outputId": "a23f3224-888a-409d-8df6-c02f80df6dd1"
      },
      "execution_count": 130,
      "outputs": [
        {
          "output_type": "execute_result",
          "data": {
            "text/plain": [
              "tensor([[1, 2, 3],\n",
              "        [4, 5, 6],\n",
              "        [7, 8, 9]])"
            ]
          },
          "metadata": {},
          "execution_count": 130
        }
      ]
    },
    {
      "cell_type": "code",
      "source": [
        "# Let's index on the middle bracket(dim=1)\n",
        "x[0][0] # whose effect is the same as x[0,0]"
      ],
      "metadata": {
        "colab": {
          "base_uri": "https://localhost:8080/"
        },
        "id": "p37cUwbfiRKq",
        "outputId": "3225f394-33b7-4ce1-b469-22238d26d574"
      },
      "execution_count": 131,
      "outputs": [
        {
          "output_type": "execute_result",
          "data": {
            "text/plain": [
              "tensor([1, 2, 3])"
            ]
          },
          "metadata": {},
          "execution_count": 131
        }
      ]
    },
    {
      "cell_type": "code",
      "source": [
        "# Let's index on the most inner bracket (last dimension)\n",
        "x[0][0][0]\n",
        "x[0][1][1]"
      ],
      "metadata": {
        "colab": {
          "base_uri": "https://localhost:8080/"
        },
        "id": "pHnRCbN4iRII",
        "outputId": "cbf50add-b4ae-4235-d2b2-483afb6bf986"
      },
      "execution_count": 132,
      "outputs": [
        {
          "output_type": "execute_result",
          "data": {
            "text/plain": [
              "tensor(5)"
            ]
          },
          "metadata": {},
          "execution_count": 132
        }
      ]
    },
    {
      "cell_type": "code",
      "source": [
        "# You can also use \":\" to select \"all\" of a target dimension\n",
        "x[:,0]"
      ],
      "metadata": {
        "colab": {
          "base_uri": "https://localhost:8080/"
        },
        "id": "BNpJt8gjiRFO",
        "outputId": "6ac9eb79-e366-4074-b7aa-3a03b99e9ab4"
      },
      "execution_count": 133,
      "outputs": [
        {
          "output_type": "execute_result",
          "data": {
            "text/plain": [
              "tensor([[1, 2, 3]])"
            ]
          },
          "metadata": {},
          "execution_count": 133
        }
      ]
    },
    {
      "cell_type": "code",
      "source": [
        "# Get all values of 0th and 1st dimensions but only index 1 of 2nd dimension\n",
        "x[:,:,1]\n",
        "# result would be tensor([[2, 5, 8]])"
      ],
      "metadata": {
        "colab": {
          "base_uri": "https://localhost:8080/"
        },
        "id": "BxfH3OOliRCi",
        "outputId": "42d93728-74c3-41ec-fe20-3635b869856d"
      },
      "execution_count": 134,
      "outputs": [
        {
          "output_type": "execute_result",
          "data": {
            "text/plain": [
              "tensor([[2, 5, 8]])"
            ]
          },
          "metadata": {},
          "execution_count": 134
        }
      ]
    },
    {
      "cell_type": "code",
      "source": [
        "# Get all values of the 0 dimension but only the 1 index value of 1st and 2nd dimension\n",
        "x[:,1,1] # result:tensor([5])\n",
        "#comparison: x[0,1,1] result:tensor(5)"
      ],
      "metadata": {
        "colab": {
          "base_uri": "https://localhost:8080/"
        },
        "id": "kLIVuSZVhzZW",
        "outputId": "b34e80d0-79d8-44e3-8258-b67c2a8e6b63"
      },
      "execution_count": 135,
      "outputs": [
        {
          "output_type": "execute_result",
          "data": {
            "text/plain": [
              "tensor([5])"
            ]
          },
          "metadata": {},
          "execution_count": 135
        }
      ]
    },
    {
      "cell_type": "code",
      "source": [
        "# Get index 0 of 0th and 1st dimension and all values of 2nd dimension\n",
        "x[0,0,:] #result:tensor([1, 2, 3])\n",
        "#comparison x[0][0],result:tensor([1, 2, 3])"
      ],
      "metadata": {
        "colab": {
          "base_uri": "https://localhost:8080/"
        },
        "id": "HEqGGLoBswz-",
        "outputId": "92efbba8-6208-45d9-d0a0-834c6425dbaa"
      },
      "execution_count": 136,
      "outputs": [
        {
          "output_type": "execute_result",
          "data": {
            "text/plain": [
              "tensor([1, 2, 3])"
            ]
          },
          "metadata": {},
          "execution_count": 136
        }
      ]
    },
    {
      "cell_type": "code",
      "source": [
        "# Index on x to return 9\n",
        "# Index on x to return 3,6,9\n",
        "x"
      ],
      "metadata": {
        "colab": {
          "base_uri": "https://localhost:8080/"
        },
        "id": "Q2lAyRVvtk8L",
        "outputId": "cc3d60b6-5d7d-483f-a9c0-4be10516137b"
      },
      "execution_count": 137,
      "outputs": [
        {
          "output_type": "execute_result",
          "data": {
            "text/plain": [
              "tensor([[[1, 2, 3],\n",
              "         [4, 5, 6],\n",
              "         [7, 8, 9]]])"
            ]
          },
          "metadata": {},
          "execution_count": 137
        }
      ]
    },
    {
      "cell_type": "code",
      "source": [
        "x[:,2,2] #result:tensor([9])"
      ],
      "metadata": {
        "colab": {
          "base_uri": "https://localhost:8080/"
        },
        "id": "QQiIAUcVtl8s",
        "outputId": "54dabd9d-408d-48c2-cebd-8c65e2700a20"
      },
      "execution_count": 138,
      "outputs": [
        {
          "output_type": "execute_result",
          "data": {
            "text/plain": [
              "tensor([9])"
            ]
          },
          "metadata": {},
          "execution_count": 138
        }
      ]
    },
    {
      "cell_type": "code",
      "source": [
        "x[0,2,2] #result:tensor(9)"
      ],
      "metadata": {
        "colab": {
          "base_uri": "https://localhost:8080/"
        },
        "id": "VUSNKf1GvZ6w",
        "outputId": "3d065ff1-6cfc-4041-910f-8cc7f3adb385"
      },
      "execution_count": 139,
      "outputs": [
        {
          "output_type": "execute_result",
          "data": {
            "text/plain": [
              "tensor(9)"
            ]
          },
          "metadata": {},
          "execution_count": 139
        }
      ]
    },
    {
      "cell_type": "code",
      "source": [
        "x[:,:,2]"
      ],
      "metadata": {
        "colab": {
          "base_uri": "https://localhost:8080/"
        },
        "id": "x-YglfvuuEMd",
        "outputId": "a3dff115-f135-4d05-8758-4d51690caf6a"
      },
      "execution_count": 140,
      "outputs": [
        {
          "output_type": "execute_result",
          "data": {
            "text/plain": [
              "tensor([[3, 6, 9]])"
            ]
          },
          "metadata": {},
          "execution_count": 140
        }
      ]
    },
    {
      "cell_type": "markdown",
      "source": [
        "## PyTorch tensors & NumPy\n",
        "\n",
        "NumPy is a popular scientific Python numerical computing library.\n",
        "\n",
        "And because of this, PyTorch has functionality to interact with it.\n",
        "\n",
        "* Data in NumPy, want in PyTorch tensor -> 'torch.from_numpy(ndarray)'\n",
        "* PyTorch tensor -> NumPy ->'torch.Tensor.numpy()'"
      ],
      "metadata": {
        "id": "aOdlpqLuvOjm"
      }
    },
    {
      "cell_type": "code",
      "source": [
        "# NumPy array to tensor\n",
        "import torch\n",
        "import numpy as np\n",
        "\n",
        "array = np.arange(1.0, 8.0)\n",
        "tensor = torch.from_numpy(array)\n",
        "array, tensor\n",
        "#result would be (array([1., 2., 3., 4., 5., 6., 7.]),\n",
        "# tensor([1., 2., 3., 4., 5., 6., 7.], dtype=torch.float64)"
      ],
      "metadata": {
        "colab": {
          "base_uri": "https://localhost:8080/"
        },
        "id": "albWfjwCvOcd",
        "outputId": "88892991-f9d5-456e-945d-e551f12ee398"
      },
      "execution_count": 141,
      "outputs": [
        {
          "output_type": "execute_result",
          "data": {
            "text/plain": [
              "(array([1., 2., 3., 4., 5., 6., 7.]),\n",
              " tensor([1., 2., 3., 4., 5., 6., 7.], dtype=torch.float64))"
            ]
          },
          "metadata": {},
          "execution_count": 141
        }
      ]
    },
    {
      "cell_type": "code",
      "source": [
        "array.dtype"
      ],
      "metadata": {
        "colab": {
          "base_uri": "https://localhost:8080/"
        },
        "id": "vVMtDUL7vORz",
        "outputId": "58b64e1a-10a4-4d30-ce33-dc43985cf4b2"
      },
      "execution_count": 142,
      "outputs": [
        {
          "output_type": "execute_result",
          "data": {
            "text/plain": [
              "dtype('float64')"
            ]
          },
          "metadata": {},
          "execution_count": 142
        }
      ]
    },
    {
      "cell_type": "code",
      "source": [
        "torch.arange(1.0, 8.0).dtype\n",
        "# result:torch.float32"
      ],
      "metadata": {
        "colab": {
          "base_uri": "https://localhost:8080/"
        },
        "id": "b2jok3IH2yVW",
        "outputId": "c98f0776-4aa6-4d6b-89b3-809ba3dfa26c"
      },
      "execution_count": 143,
      "outputs": [
        {
          "output_type": "execute_result",
          "data": {
            "text/plain": [
              "torch.float32"
            ]
          },
          "metadata": {},
          "execution_count": 143
        }
      ]
    },
    {
      "cell_type": "code",
      "source": [
        "# NumPy array to tensor\n",
        "import torch\n",
        "import numpy as np\n",
        "\n",
        "array = np.arange(1.0, 8.0)\n",
        "tensor = torch.from_numpy(array).type(torch.float32) #dtype=torch.float32 wouldn't work out\n",
        "# warning: when converting from numpy ->pytorch,pytorch reflects numpy's default datatype of float64 unless specified otherwise\n",
        "array, tensor"
      ],
      "metadata": {
        "colab": {
          "base_uri": "https://localhost:8080/"
        },
        "id": "lzHxtv_Z4Y4Z",
        "outputId": "8d9bd70b-1afe-4e51-ff61-cfe5c600937d"
      },
      "execution_count": 144,
      "outputs": [
        {
          "output_type": "execute_result",
          "data": {
            "text/plain": [
              "(array([1., 2., 3., 4., 5., 6., 7.]), tensor([1., 2., 3., 4., 5., 6., 7.]))"
            ]
          },
          "metadata": {},
          "execution_count": 144
        }
      ]
    },
    {
      "cell_type": "code",
      "source": [
        "tensor.dtype"
      ],
      "metadata": {
        "colab": {
          "base_uri": "https://localhost:8080/"
        },
        "id": "s1hHg7ei2r_I",
        "outputId": "6152660f-137b-406b-d901-c35b23d51afc"
      },
      "execution_count": 145,
      "outputs": [
        {
          "output_type": "execute_result",
          "data": {
            "text/plain": [
              "torch.float32"
            ]
          },
          "metadata": {},
          "execution_count": 145
        }
      ]
    },
    {
      "cell_type": "code",
      "source": [
        "# Change the value of array, what will this do to \"tensor\"?\n",
        "array = array+1\n",
        "array, tensor"
      ],
      "metadata": {
        "colab": {
          "base_uri": "https://localhost:8080/"
        },
        "id": "1NXYeir25lTB",
        "outputId": "2f54c0d4-8718-4887-dc60-54ca6e248435"
      },
      "execution_count": 146,
      "outputs": [
        {
          "output_type": "execute_result",
          "data": {
            "text/plain": [
              "(array([2., 3., 4., 5., 6., 7., 8.]), tensor([1., 2., 3., 4., 5., 6., 7.]))"
            ]
          },
          "metadata": {},
          "execution_count": 146
        }
      ]
    },
    {
      "cell_type": "code",
      "source": [
        "# Tensor to NumPy array\n",
        "tensor = torch.ones(7)\n",
        "numpy_tensor = tensor.numpy()\n",
        "tensor, numpy_tensor"
      ],
      "metadata": {
        "colab": {
          "base_uri": "https://localhost:8080/"
        },
        "id": "f7vdm8S56GE7",
        "outputId": "3aa1a239-efc5-4cb6-d52f-40a72138959e"
      },
      "execution_count": 147,
      "outputs": [
        {
          "output_type": "execute_result",
          "data": {
            "text/plain": [
              "(tensor([1., 1., 1., 1., 1., 1., 1.]),\n",
              " array([1., 1., 1., 1., 1., 1., 1.], dtype=float32))"
            ]
          },
          "metadata": {},
          "execution_count": 147
        }
      ]
    },
    {
      "cell_type": "code",
      "source": [
        "numpy_tensor.dtype\n",
        "# default of a pytorch tensor datatype is float 32,so when a tensor converts to numpy array, its dtype is also float32\n",
        "# default datatype of a numpy array is float 64, when an array converts to a pytorch tensor, its datatype is also float64"
      ],
      "metadata": {
        "colab": {
          "base_uri": "https://localhost:8080/"
        },
        "id": "rJXiWuvs8P70",
        "outputId": "eb864cc1-6442-4398-ccf2-683e2ab3c0bb"
      },
      "execution_count": 148,
      "outputs": [
        {
          "output_type": "execute_result",
          "data": {
            "text/plain": [
              "dtype('float32')"
            ]
          },
          "metadata": {},
          "execution_count": 148
        }
      ]
    },
    {
      "cell_type": "code",
      "source": [
        "# Change the tensor, what happens to 'numpy_tensor'\n",
        "tensor = tensor+1\n",
        "  tensor, numpy_tensor\n",
        "# result would be (tensor([2., 2., 2., 2., 2., 2., 2.]),\n",
        "# array([1., 1., 1., 1., 1., 1., 1.], dtype=float32))"
      ],
      "metadata": {
        "colab": {
          "base_uri": "https://localhost:8080/",
          "height": 146
        },
        "id": "hN2UYqBF8WNQ",
        "outputId": "0ae6fffc-c7d0-4778-f18a-9dccc97a627e"
      },
      "execution_count": 150,
      "outputs": [
        {
          "output_type": "error",
          "ename": "IndentationError",
          "evalue": "ignored",
          "traceback": [
            "\u001b[0;36m  File \u001b[0;32m\"<ipython-input-150-fe3063137250>\"\u001b[0;36m, line \u001b[0;32m3\u001b[0m\n\u001b[0;31m    tensor, numpy_tensor\u001b[0m\n\u001b[0m    ^\u001b[0m\n\u001b[0;31mIndentationError\u001b[0m\u001b[0;31m:\u001b[0m unexpected indent\n"
          ]
        }
      ]
    },
    {
      "cell_type": "markdown",
      "source": [
        "## Reproducbility (trying to take random out of random)\n",
        "\n",
        "In short how a neural network learns:\n",
        "\n",
        "‘start with random numbers -> tensor operations-> update random numbers to try and make them better representations of the data -> again->again->again->...’\n",
        "\n",
        "To reduce the randomness in neural networks and PyTorch comes the concept of a **random seed**\n",
        "\n",
        "Essentially what the random seed does is \"flavour\" the randomness."
      ],
      "metadata": {
        "id": "ztooKyg27vhQ"
      }
    },
    {
      "cell_type": "code",
      "source": [
        "import torch\n",
        "\n",
        "# Create 2 random tensors\n",
        "random_tensor_A = torch.rand(3,4)\n",
        "random_tensor_B = torch.rand(3,4)\n",
        "\n",
        "print(random_tensor_A)\n",
        "print(random_tensor_B)\n",
        "print(random_tensor_A == random_tensor_B)"
      ],
      "metadata": {
        "colab": {
          "base_uri": "https://localhost:8080/"
        },
        "id": "ZVMLZll_730P",
        "outputId": "8154f585-5489-463e-ebf8-6961f8e705b7"
      },
      "execution_count": 152,
      "outputs": [
        {
          "output_type": "stream",
          "name": "stdout",
          "text": [
            "tensor([[0.2650, 0.2812, 0.6217, 0.4728],\n",
            "        [0.0605, 0.3347, 0.3585, 0.5351],\n",
            "        [0.1758, 0.5767, 0.5170, 0.4105]])\n",
            "tensor([[0.4326, 0.5325, 0.9968, 0.3762],\n",
            "        [0.8263, 0.5737, 0.9827, 0.6441],\n",
            "        [0.5161, 0.5771, 0.0496, 0.3437]])\n",
            "tensor([[False, False, False, False],\n",
            "        [False, False, False, False],\n",
            "        [False, False, False, False]])\n"
          ]
        }
      ]
    },
    {
      "cell_type": "code",
      "source": [
        "1 ==1"
      ],
      "metadata": {
        "colab": {
          "base_uri": "https://localhost:8080/"
        },
        "id": "6Q1Usxxt9jFU",
        "outputId": "5d3f81b4-f84f-4b58-9199-0767270d044f"
      },
      "execution_count": 154,
      "outputs": [
        {
          "output_type": "execute_result",
          "data": {
            "text/plain": [
              "True"
            ]
          },
          "metadata": {},
          "execution_count": 154
        }
      ]
    },
    {
      "cell_type": "code",
      "source": [
        "# Let's make some random but reproducible tensors\n",
        "import torch\n",
        "\n",
        "# Set the random seed\n",
        "RANDOM_SEED = 42\n",
        "torch.manual_seed(RANDOM_SEED)\n",
        "random_tensor_C = torch.rand(3,4)\n",
        "\n",
        "torch.manual_seed(RANDOM_SEED)# 注意，不加这一句，会是不同tensor\n",
        "random_tensor_D = torch.rand(3,4)\n",
        "\n",
        "print(random_tensor_C)\n",
        "print(random_tensor_D)\n",
        "print(random_tensor_C == random_tensor_D)"
      ],
      "metadata": {
        "colab": {
          "base_uri": "https://localhost:8080/"
        },
        "id": "O_dC3KF-INDK",
        "outputId": "49d9eb44-b2e8-45ba-c7f7-07b2a0dbde7a"
      },
      "execution_count": 158,
      "outputs": [
        {
          "output_type": "stream",
          "name": "stdout",
          "text": [
            "tensor([[0.8823, 0.9150, 0.3829, 0.9593],\n",
            "        [0.3904, 0.6009, 0.2566, 0.7936],\n",
            "        [0.9408, 0.1332, 0.9346, 0.5936]])\n",
            "tensor([[0.8823, 0.9150, 0.3829, 0.9593],\n",
            "        [0.3904, 0.6009, 0.2566, 0.7936],\n",
            "        [0.9408, 0.1332, 0.9346, 0.5936]])\n",
            "tensor([[True, True, True, True],\n",
            "        [True, True, True, True],\n",
            "        [True, True, True, True]])\n"
          ]
        }
      ]
    },
    {
      "cell_type": "markdown",
      "source": [
        "Extra resources for reproducibility\n",
        "\n",
        "*https://pytorch.org/docs/stable/notes/randomness.html\n",
        "\n",
        "*https://en.wikipedia.org/wiki/Random_seed"
      ],
      "metadata": {
        "id": "nGIWupNWKVf7"
      }
    },
    {
      "cell_type": "markdown",
      "source": [
        "##Running tensors and PyTorch objects on the GPUs (and making faster computations)\n",
        "\n",
        "GPUs = faster computation on numbers, thanks to CUDA + NVIDIA hardware + PyTorch working behind the scenes to make everthing hunky dory(good)."
      ],
      "metadata": {
        "id": "uK1iVG5CK0ky"
      }
    },
    {
      "cell_type": "markdown",
      "source": [
        "### 1. Getting a GPU\n",
        "1. Easiest - Use Google Colab for a free GPU (options to upgrade as well)\n",
        "2. Use your own GPU - takes a little bit og setup and requires the investment of purchasing a GPU, there's lots of options..., see this post for what option to get :https://timdettmers.com/2023/01/30/which-gpu-for-deep-learning:https://timdettmers.com/2023/01/30/which-gpu-for-deep-learning/\n",
        "3. Use cloud computing - GCP, AWS, Azure, these services aloow you to rent computers on the cloud and access them\n",
        "\n",
        "For2,3 PyTorch + GPU drivers(CUDA) takes a little bit of setting up, to do this, refer to PyTorch setup documentation: https://pytorch.org/get-started/cloud-partners/"
      ],
      "metadata": {
        "id": "dcxk5tMWUnjL"
      }
    },
    {
      "cell_type": "code",
      "source": [
        "!nvidia-smi"
      ],
      "metadata": {
        "colab": {
          "base_uri": "https://localhost:8080/"
        },
        "id": "G-1fEERY098a",
        "outputId": "8e1865e8-8575-41d2-f2f0-1cebe0bacfd8"
      },
      "execution_count": 4,
      "outputs": [
        {
          "output_type": "stream",
          "name": "stdout",
          "text": [
            "/bin/bash: line 1: nvidia-smi: command not found\n"
          ]
        }
      ]
    },
    {
      "cell_type": "markdown",
      "source": [
        "###2. Check for GPU access with PyTorch"
      ],
      "metadata": {
        "id": "zS8Q3EJk2OUL"
      }
    },
    {
      "cell_type": "code",
      "source": [
        "# Check for GPU access with PyTorch\n",
        "import torch\n",
        "torch.cuda.is_available()"
      ],
      "metadata": {
        "colab": {
          "base_uri": "https://localhost:8080/"
        },
        "id": "E6KszrbR2sal",
        "outputId": "d18ac99f-e696-4599-88d5-2ce1e5759a81"
      },
      "execution_count": 9,
      "outputs": [
        {
          "output_type": "execute_result",
          "data": {
            "text/plain": [
              "False"
            ]
          },
          "metadata": {},
          "execution_count": 9
        }
      ]
    },
    {
      "cell_type": "markdown",
      "source": [
        "For PyTorch since it's capable of running compute on the GPU or CPU,it's best practice to setup device agnostic code:https://pytorch.org/docs/stable/notes/cuda.html#best-practices\n",
        "\n",
        "E.g. run on GPU if available, else default to CPU"
      ],
      "metadata": {
        "id": "xa91gSn-4a--"
      }
    },
    {
      "cell_type": "code",
      "source": [
        "# Setup device agnostic code\n",
        "device =\"cuda\" if torch.cuda.is_available()else\"cpu\"\n",
        "device"
      ],
      "metadata": {
        "colab": {
          "base_uri": "https://localhost:8080/",
          "height": 35
        },
        "id": "kJa9ejYx2_vn",
        "outputId": "2fb85046-5e8f-44bb-ab2c-a6a36f6d7613"
      },
      "execution_count": 4,
      "outputs": [
        {
          "output_type": "execute_result",
          "data": {
            "text/plain": [
              "'cuda'"
            ],
            "application/vnd.google.colaboratory.intrinsic+json": {
              "type": "string"
            }
          },
          "metadata": {},
          "execution_count": 4
        }
      ]
    },
    {
      "cell_type": "code",
      "source": [
        "# Count number of devices\n",
        "torch.cuda.device_count()"
      ],
      "metadata": {
        "colab": {
          "base_uri": "https://localhost:8080/"
        },
        "id": "Fnf2uvvY39gy",
        "outputId": "95a78901-f0b4-44cf-bdeb-344ac606226f"
      },
      "execution_count": 5,
      "outputs": [
        {
          "output_type": "execute_result",
          "data": {
            "text/plain": [
              "1"
            ]
          },
          "metadata": {},
          "execution_count": 5
        }
      ]
    },
    {
      "cell_type": "markdown",
      "source": [
        "## 3. Putting tensors(and models) on the GPU\n",
        "The reason we want our tensors/models on the GPU is because using a GPU results in faster computations."
      ],
      "metadata": {
        "id": "VGtav-bG4JuE"
      }
    },
    {
      "cell_type": "code",
      "source": [
        "# Create a tensor (default on the CPU)\n",
        "tensor = torch.tensor([1,2,3],device =\"cpu\" )#后半句不加上，则默认在cpu\n",
        "\n",
        "#Tensor not on GPU\n",
        "print(tensor,tensor.device)"
      ],
      "metadata": {
        "colab": {
          "base_uri": "https://localhost:8080/"
        },
        "id": "lJ8JDs3hGwHs",
        "outputId": "6733d604-2668-422f-f23d-bbcc25a8868a"
      },
      "execution_count": 6,
      "outputs": [
        {
          "output_type": "stream",
          "name": "stdout",
          "text": [
            "tensor([1, 2, 3]) cpu\n"
          ]
        }
      ]
    },
    {
      "cell_type": "code",
      "source": [
        "#Move tensor to GPU(if available)\n",
        "tensor_on_gpu=tensor.to(device)# keep to device in mind\n",
        "tensor_on_gpu"
      ],
      "metadata": {
        "colab": {
          "base_uri": "https://localhost:8080/"
        },
        "id": "YOqGxp4RIia-",
        "outputId": "8103e4ec-94b3-4538-9645-0d88c6a05010"
      },
      "execution_count": 7,
      "outputs": [
        {
          "output_type": "execute_result",
          "data": {
            "text/plain": [
              "tensor([1, 2, 3], device='cuda:0')"
            ]
          },
          "metadata": {},
          "execution_count": 7
        }
      ]
    },
    {
      "cell_type": "markdown",
      "source": [
        "### 4. Moving tensors back to the CPU"
      ],
      "metadata": {
        "id": "8gPxhtyxIx5m"
      }
    },
    {
      "cell_type": "code",
      "source": [
        "# If tensor is on GPU, can't transform it to NumPy # 3种大error：shape；datatype；device issues\n",
        "\n",
        "tensor_on_gpu.numpy()"
      ],
      "metadata": {
        "colab": {
          "base_uri": "https://localhost:8080/",
          "height": 200
        },
        "id": "G0vBihtFJUkq",
        "outputId": "a24cf59e-e10d-4627-bf2f-d24baf6695f2"
      },
      "execution_count": 8,
      "outputs": [
        {
          "output_type": "error",
          "ename": "TypeError",
          "evalue": "ignored",
          "traceback": [
            "\u001b[0;31m---------------------------------------------------------------------------\u001b[0m",
            "\u001b[0;31mTypeError\u001b[0m                                 Traceback (most recent call last)",
            "\u001b[0;32m<ipython-input-8-3b37fc2b5475>\u001b[0m in \u001b[0;36m<cell line: 2>\u001b[0;34m()\u001b[0m\n\u001b[1;32m      1\u001b[0m \u001b[0;31m# If tensor is on GPU, can't transform it to NumPy # 3种大error：shape；datatype；device issues\u001b[0m\u001b[0;34m\u001b[0m\u001b[0;34m\u001b[0m\u001b[0m\n\u001b[0;32m----> 2\u001b[0;31m \u001b[0mtensor_on_gpu\u001b[0m\u001b[0;34m.\u001b[0m\u001b[0mnumpy\u001b[0m\u001b[0;34m(\u001b[0m\u001b[0;34m)\u001b[0m\u001b[0;34m\u001b[0m\u001b[0;34m\u001b[0m\u001b[0m\n\u001b[0m",
            "\u001b[0;31mTypeError\u001b[0m: can't convert cuda:0 device type tensor to numpy. Use Tensor.cpu() to copy the tensor to host memory first."
          ]
        }
      ]
    },
    {
      "cell_type": "code",
      "source": [
        "# To fix the GPU tensor with Numpy issue, we ca first set it to the CPU\n",
        "tensor_back_on_cpu= tensor_on_gpu.cpu().numpy()\n",
        "tensor_back_on_cpu\n"
      ],
      "metadata": {
        "colab": {
          "base_uri": "https://localhost:8080/"
        },
        "id": "BPpTsD9RSa7x",
        "outputId": "933c9603-b491-43f4-caf7-d9b00a5276b2"
      },
      "execution_count": 10,
      "outputs": [
        {
          "output_type": "execute_result",
          "data": {
            "text/plain": [
              "array([1, 2, 3])"
            ]
          },
          "metadata": {},
          "execution_count": 10
        }
      ]
    },
    {
      "cell_type": "code",
      "source": [
        "tensor_on_gpu\n"
      ],
      "metadata": {
        "colab": {
          "base_uri": "https://localhost:8080/"
        },
        "id": "voA8OTxrboGC",
        "outputId": "08ec0503-50d6-4609-c778-ab75b9d5ff25"
      },
      "execution_count": 12,
      "outputs": [
        {
          "output_type": "execute_result",
          "data": {
            "text/plain": [
              "tensor([1, 2, 3], device='cuda:0')"
            ]
          },
          "metadata": {},
          "execution_count": 12
        }
      ]
    },
    {
      "cell_type": "markdown",
      "source": [
        "## Exercises & Extra-curriculum\n",
        "\n",
        "See exercises for this notebook here:https://www.learnpytorch.io/00_pytorch_fundamentals/#exercises"
      ],
      "metadata": {
        "id": "sdEVQF97bwN_"
      }
    }
  ]
}