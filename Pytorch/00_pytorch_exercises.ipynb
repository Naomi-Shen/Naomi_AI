{
  "nbformat": 4,
  "nbformat_minor": 0,
  "metadata": {
    "colab": {
      "provenance": []
    },
    "kernelspec": {
      "name": "python3",
      "display_name": "Python 3"
    },
    "language_info": {
      "name": "python"
    }
  },
  "cells": [
    {
      "cell_type": "code",
      "execution_count": null,
      "metadata": {
        "id": "BmWRKQNodipL"
      },
      "outputs": [],
      "source": [
        "import torch"
      ]
    },
    {
      "cell_type": "code",
      "source": [
        "# 1. Documentation reading - A big part of deep learning (and learning to code in general) is getting familiar with the documentation of a certain framework you're using. We'll be using the PyTorch documentation a lot throughout the rest of this course. So I'd recommend spending 10-minutes reading the following (it's okay if you don't get some things for now, the focus is not yet full understanding, it's awareness). See the documentation on torch.Tensor and for torch.cuda."
      ],
      "metadata": {
        "id": "I7MXk7HHdtmI"
      },
      "execution_count": null,
      "outputs": []
    },
    {
      "cell_type": "code",
      "source": [
        "#2. Create a random tensor with shape (7, 7).\n",
        "torch.rand(7,7)"
      ],
      "metadata": {
        "colab": {
          "base_uri": "https://localhost:8080/"
        },
        "id": "qpyvG-uBeQKG",
        "outputId": "695ed974-523e-41a4-d36f-a9c3a5fecac0"
      },
      "execution_count": null,
      "outputs": [
        {
          "output_type": "execute_result",
          "data": {
            "text/plain": [
              "tensor([[0.3694, 0.0057, 0.9551, 0.0560, 0.9120, 0.0558, 0.0893],\n",
              "        [0.4434, 0.3759, 0.2062, 0.1178, 0.3487, 0.6673, 0.1746],\n",
              "        [0.8572, 0.2917, 0.3378, 0.7435, 0.6329, 0.3933, 0.5863],\n",
              "        [0.1116, 0.9692, 0.4211, 0.7278, 0.2080, 0.1112, 0.5205],\n",
              "        [0.9521, 0.1922, 0.1588, 0.3810, 0.8402, 0.4177, 0.5215],\n",
              "        [0.2222, 0.8242, 0.9267, 0.4042, 0.2710, 0.0774, 0.8414],\n",
              "        [0.8223, 0.1166, 0.7156, 0.0458, 0.7706, 0.2606, 0.0459]])"
            ]
          },
          "metadata": {},
          "execution_count": 7
        }
      ]
    }
  ]
}